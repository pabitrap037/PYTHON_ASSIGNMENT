{
 "cells": [
  {
   "cell_type": "markdown",
   "id": "f2717c9f",
   "metadata": {},
   "source": [
    "Q-1. Write an SQL query to determine the 5th highest salary without using TOP or limit method.\n",
    "\n",
    "SELECT DISTINCT current_salary FROM Salary_History ORDER BY current_salary DESC OFFSET 4 ROWS FETCH NEXT 1 ROWS ONLY\n",
    "\n",
    "Q-2. Write an SQL query to fetch the list of employees with the same salary.\n",
    "\n",
    "SELECT EMI1.EMP_NAME FROM EMPLOYEES EMP1 JOIN EMPLOYEES EMP2 ON EMP1.EMP_ID <> EMP2.EMP_ID AND EMP1.SALARY = EMP2.SALARY"
   ]
  },
  {
   "cell_type": "code",
   "execution_count": null,
   "id": "19ea185f",
   "metadata": {},
   "outputs": [],
   "source": []
  }
 ],
 "metadata": {
  "kernelspec": {
   "display_name": "Python 3",
   "language": "python",
   "name": "python3"
  },
  "language_info": {
   "codemirror_mode": {
    "name": "ipython",
    "version": 3
   },
   "file_extension": ".py",
   "mimetype": "text/x-python",
   "name": "python",
   "nbconvert_exporter": "python",
   "pygments_lexer": "ipython3",
   "version": "3.8.8"
  }
 },
 "nbformat": 4,
 "nbformat_minor": 5
}
