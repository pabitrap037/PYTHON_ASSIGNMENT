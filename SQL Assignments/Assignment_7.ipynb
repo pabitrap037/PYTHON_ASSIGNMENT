{
 "cells": [
  {
   "cell_type": "markdown",
   "id": "39446223",
   "metadata": {},
   "source": [
    "Q-1. Write an SQL query to show only odd rows from a table.\n",
    "\n",
    "Select * from table_name where (RowID % 2) = 1\n",
    "\n",
    "Q-2. Write an SQL query to clone a new table from another table.\n",
    "\n",
    "CREATE TABLE new_table SELECT * FROM original_table;"
   ]
  },
  {
   "cell_type": "code",
   "execution_count": null,
   "id": "e6c01d41",
   "metadata": {},
   "outputs": [],
   "source": []
  }
 ],
 "metadata": {
  "kernelspec": {
   "display_name": "Python 3",
   "language": "python",
   "name": "python3"
  },
  "language_info": {
   "codemirror_mode": {
    "name": "ipython",
    "version": 3
   },
   "file_extension": ".py",
   "mimetype": "text/x-python",
   "name": "python",
   "nbconvert_exporter": "python",
   "pygments_lexer": "ipython3",
   "version": "3.8.8"
  }
 },
 "nbformat": 4,
 "nbformat_minor": 5
}
