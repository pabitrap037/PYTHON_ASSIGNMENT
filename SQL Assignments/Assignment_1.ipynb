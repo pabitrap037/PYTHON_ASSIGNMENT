{
 "cells": [
  {
   "cell_type": "markdown",
   "id": "c0f3f704",
   "metadata": {},
   "source": [
    "Q-1. Write an SQL query to fetch “FIRST_NAME” from Worker table using the alias name as\n",
    "\n",
    "Ans: SELECT FIRST_NAME AS WORKER_NAME FROM FROM Worker;\n",
    "\n",
    "Q-2. Write an SQL query to fetch unique values of DEPARTMENT from Worker table.\n",
    "\n",
    "Ans: SELECT DISTINCT DEPARTMENT FROM Worker;\n",
    "\n",
    "Q-3. Write an SQL query to show the last 5 record from a table.\n",
    "\n",
    "Ans: GET ROW COUNT FIRST, N= SELECT COUNT(*) FROM TABLE;\n",
    "\n",
    "SELECT * FROM TABLE LIMIT 5 OFFSET N-1;"
   ]
  },
  {
   "cell_type": "code",
   "execution_count": null,
   "id": "ac39c5b5",
   "metadata": {},
   "outputs": [],
   "source": []
  }
 ],
 "metadata": {
  "kernelspec": {
   "display_name": "Python 3",
   "language": "python",
   "name": "python3"
  },
  "language_info": {
   "codemirror_mode": {
    "name": "ipython",
    "version": 3
   },
   "file_extension": ".py",
   "mimetype": "text/x-python",
   "name": "python",
   "nbconvert_exporter": "python",
   "pygments_lexer": "ipython3",
   "version": "3.8.8"
  }
 },
 "nbformat": 4,
 "nbformat_minor": 5
}
