{
 "cells": [
  {
   "cell_type": "markdown",
   "id": "24a89901",
   "metadata": {},
   "source": [
    "Q-1. Write an SQL query to print details of the Workers who have joined in Feb’2014.\n",
    "\n",
    "SELECT * FROM Worker WHERE hire_date in between \"01-02-2014\" and \"28-02-2014\"\n",
    "\n",
    "Q-2. Write an SQL query to fetch duplicate records having matching data in some fields of a table.\n",
    "\n",
    "SELECT id, name, email FROM users u, users u2 WHERE u.name = u2.name AND u.email = u2.email and u.id=u2.id\n",
    "\n",
    "Q-3. How to remove duplicate rows from Employees table.\n",
    "\n",
    "DELETE FROM users\n",
    "WHERE id IN (\n",
    "    SELECT id, name, email\n",
    "    FROM users u, users u2\n",
    "    WHERE u.name = u2.name AND u.email = u2.email AND u.id = u2.id\n",
    ")"
   ]
  },
  {
   "cell_type": "code",
   "execution_count": null,
   "id": "2cc34828",
   "metadata": {},
   "outputs": [],
   "source": []
  }
 ],
 "metadata": {
  "kernelspec": {
   "display_name": "Python 3",
   "language": "python",
   "name": "python3"
  },
  "language_info": {
   "codemirror_mode": {
    "name": "ipython",
    "version": 3
   },
   "file_extension": ".py",
   "mimetype": "text/x-python",
   "name": "python",
   "nbconvert_exporter": "python",
   "pygments_lexer": "ipython3",
   "version": "3.8.8"
  }
 },
 "nbformat": 4,
 "nbformat_minor": 5
}
