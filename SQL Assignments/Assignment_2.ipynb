{
 "cells": [
  {
   "cell_type": "markdown",
   "id": "a8b06d42",
   "metadata": {},
   "source": [
    "Q-1. Write an SQL query to print the first three characters of  FIRST_NAME from Worker table.\n",
    "\n",
    "Ans: SELECT LEFT(FIRST_NAME,3) FROM Worker;\n",
    "\n",
    "Q-2. Write an SQL query to find the position of the alphabet (‘a’) in the first name column ‘Amitabh’ from Worker table.\n",
    "\n",
    "Ans: SELECT POSITION('a' in FIRST_NAME) FROM Worker;\n",
    "\n",
    "Q-3. Write an SQL query to print the name of employees having the highest salary in each department.\n",
    "\n",
    "Ans: SELECT FIRST_NAME FROM Worker WHERE (DEPARTMENT, SALARY) IN (SELECT DEPARTMENT, MAX(SALARY) FROM Worker GROUP BY DEPARTMENT);"
   ]
  },
  {
   "cell_type": "code",
   "execution_count": null,
   "id": "a580f402",
   "metadata": {},
   "outputs": [],
   "source": []
  }
 ],
 "metadata": {
  "kernelspec": {
   "display_name": "Python 3",
   "language": "python",
   "name": "python3"
  },
  "language_info": {
   "codemirror_mode": {
    "name": "ipython",
    "version": 3
   },
   "file_extension": ".py",
   "mimetype": "text/x-python",
   "name": "python",
   "nbconvert_exporter": "python",
   "pygments_lexer": "ipython3",
   "version": "3.8.8"
  }
 },
 "nbformat": 4,
 "nbformat_minor": 5
}
