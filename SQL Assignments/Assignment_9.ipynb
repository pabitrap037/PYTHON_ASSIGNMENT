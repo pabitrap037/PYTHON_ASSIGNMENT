{
 "cells": [
  {
   "cell_type": "markdown",
   "id": "da584dc5",
   "metadata": {},
   "source": [
    "Q-1. Write an SQL query to show the top n (say 10) records of a table.\n",
    "\n",
    "SELECT TOP 10 * FROM users\n",
    "\n",
    "Q-2. Write an SQL query to determine the nth (say n=5) highest salary from a table.\n",
    "\n",
    "(offset should be n-1)\n",
    "\n",
    "SELECT DISTINCT current_salary FROM Salary_History ORDER BY current_salary DESC OFFSET 4 ROWS FETCH NEXT 1 ROWS ONLY"
   ]
  },
  {
   "cell_type": "code",
   "execution_count": null,
   "id": "84a199aa",
   "metadata": {},
   "outputs": [],
   "source": []
  }
 ],
 "metadata": {
  "kernelspec": {
   "display_name": "Python 3",
   "language": "python",
   "name": "python3"
  },
  "language_info": {
   "codemirror_mode": {
    "name": "ipython",
    "version": 3
   },
   "file_extension": ".py",
   "mimetype": "text/x-python",
   "name": "python",
   "nbconvert_exporter": "python",
   "pygments_lexer": "ipython3",
   "version": "3.8.8"
  }
 },
 "nbformat": 4,
 "nbformat_minor": 5
}
