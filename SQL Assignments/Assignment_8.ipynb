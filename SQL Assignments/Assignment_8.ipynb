{
 "cells": [
  {
   "cell_type": "markdown",
   "id": "f0b7dc59",
   "metadata": {},
   "source": [
    "Q-1. Write an SQL query to fetch intersecting records of two tables.\n",
    "\n",
    "(SELECT * FROM table1)\n",
    "\n",
    "INTERSECT\n",
    "\n",
    "(SELECT * FROM table2)\n",
    "\n",
    "Q-2. Write an SQL query to show records from one table that another table does not have.\n",
    "\n",
    "Ans: SELECT * FROM USERS\n",
    "\n",
    "MINUS\n",
    "\n",
    "SELECT * FROM TABLE2"
   ]
  },
  {
   "cell_type": "code",
   "execution_count": null,
   "id": "74adac4e",
   "metadata": {},
   "outputs": [],
   "source": []
  }
 ],
 "metadata": {
  "kernelspec": {
   "display_name": "Python 3",
   "language": "python",
   "name": "python3"
  },
  "language_info": {
   "codemirror_mode": {
    "name": "ipython",
    "version": 3
   },
   "file_extension": ".py",
   "mimetype": "text/x-python",
   "name": "python",
   "nbconvert_exporter": "python",
   "pygments_lexer": "ipython3",
   "version": "3.8.8"
  }
 },
 "nbformat": 4,
 "nbformat_minor": 5
}
