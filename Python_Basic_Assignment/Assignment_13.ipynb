{
 "cells": [
  {
   "cell_type": "markdown",
   "id": "7bffe837",
   "metadata": {},
   "source": [
    "### 1. What advantages do Excel spreadsheets have over CSV spreadsheets?"
   ]
  },
  {
   "cell_type": "markdown",
   "id": "88015533",
   "metadata": {},
   "source": [
    "    Ans:Advantages of Excel spreadsheets over CSV spreadsheets:\n",
    "    1.We can perform various operations on data in excel but no in csv.\n",
    "    2.Excel can store more complex data.\n",
    "    3.No distinction between data type in csv"
   ]
  },
  {
   "cell_type": "markdown",
   "id": "e5b641e0",
   "metadata": {},
   "source": [
    "### 2.What do you pass to csv.reader() and csv.writer() to create reader and writer objects?"
   ]
  },
  {
   "cell_type": "markdown",
   "id": "19eeada5",
   "metadata": {},
   "source": [
    "    Ans:In csv.reader() we pass file and dialect.\n",
    "    In csv.writer() we pass fileobj and dialect."
   ]
  },
  {
   "cell_type": "markdown",
   "id": "d0943904",
   "metadata": {},
   "source": [
    "### 3. What modes do File objects for reader and writer objects need to be opened in?"
   ]
  },
  {
   "cell_type": "markdown",
   "id": "c44971ca",
   "metadata": {},
   "source": [
    "    Ans:for reader object we open file in read mode 'r'\n",
    "    and for writer object we open file in write mode 'w'."
   ]
  },
  {
   "cell_type": "markdown",
   "id": "2c2da1ed",
   "metadata": {},
   "source": [
    "### 4. What method takes a list argument and writes it to a CSV file?"
   ]
  },
  {
   "cell_type": "markdown",
   "id": "e8ef8c76",
   "metadata": {},
   "source": [
    "    Ans:we can use writerow() method for list argument in csv file."
   ]
  },
  {
   "cell_type": "markdown",
   "id": "cbfe866c",
   "metadata": {},
   "source": [
    "### 5. What do the keyword arguments delimiter and line terminator do?"
   ]
  },
  {
   "cell_type": "markdown",
   "id": "f00a6728",
   "metadata": {},
   "source": [
    "    Ans:My name , is ,pabitra\n",
    "    \n",
    "    here ',' is delimiter we can use any character as per our requirement.\n",
    "    line terminator comes at end of line by default it is newline and can be changed according to requirement."
   ]
  },
  {
   "cell_type": "markdown",
   "id": "b26671d1",
   "metadata": {},
   "source": [
    "### 6. What function takes a string of JSON data and returns a Python data structure?"
   ]
  },
  {
   "cell_type": "markdown",
   "id": "da6eb1db",
   "metadata": {},
   "source": [
    "    Ans:dumps() function convert json data into python data structure. "
   ]
  },
  {
   "cell_type": "markdown",
   "id": "a28fbe00",
   "metadata": {},
   "source": [
    "### 7. What function takes a Python data structure and returns a string of JSON data?"
   ]
  },
  {
   "cell_type": "markdown",
   "id": "ac4cfa6a",
   "metadata": {},
   "source": [
    "    Ans:loads() function converts python data structure and returns a string of json data."
   ]
  },
  {
   "cell_type": "code",
   "execution_count": null,
   "id": "d53a7b3b",
   "metadata": {},
   "outputs": [],
   "source": []
  }
 ],
 "metadata": {
  "kernelspec": {
   "display_name": "Python 3",
   "language": "python",
   "name": "python3"
  },
  "language_info": {
   "codemirror_mode": {
    "name": "ipython",
    "version": 3
   },
   "file_extension": ".py",
   "mimetype": "text/x-python",
   "name": "python",
   "nbconvert_exporter": "python",
   "pygments_lexer": "ipython3",
   "version": "3.8.8"
  }
 },
 "nbformat": 4,
 "nbformat_minor": 5
}
