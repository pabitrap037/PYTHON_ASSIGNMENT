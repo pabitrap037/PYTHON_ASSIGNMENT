{
 "cells": [
  {
   "cell_type": "markdown",
   "id": "f8712aee",
   "metadata": {},
   "source": [
    "# 1. To what does a relative path refer?"
   ]
  },
  {
   "cell_type": "markdown",
   "id": "91e4afcc",
   "metadata": {},
   "source": [
    "Ans.A relative path refers to a location that is relative to a current directory"
   ]
  },
  {
   "cell_type": "markdown",
   "id": "70609dc5",
   "metadata": {},
   "source": [
    "# 2. What does an absolute path start with your operating system?"
   ]
  },
  {
   "cell_type": "markdown",
   "id": "3a65e50a",
   "metadata": {},
   "source": [
    "Ans.Absolute path names always begin with the slash (/) symbol. \n",
    "Traces the path from the current directory through its parent or its subdirectories and files. \n",
    "An absolute path name represents the complete name of a directory or file from the /(root) directory downward.\n"
   ]
  },
  {
   "cell_type": "markdown",
   "id": "be67f7be",
   "metadata": {},
   "source": [
    "# 3. What do the functions os.getcwd() and os.chdir() do?"
   ]
  },
  {
   "cell_type": "markdown",
   "id": "3852592c",
   "metadata": {},
   "source": [
    "Ans. getcwd() : CWD stands for Current Working Directory. This function allows you to see what your current working directory is. chdir(\"path-to-dir\") : Short for CHange DIRectory, this function allows you to set the current working directory to a path of your choice."
   ]
  },
  {
   "cell_type": "markdown",
   "id": "644a7f39",
   "metadata": {},
   "source": [
    "# 4. What are the . and .. folders?"
   ]
  },
  {
   "cell_type": "markdown",
   "id": "2a22e409",
   "metadata": {},
   "source": [
    "Ans. The . is the current directory, while .. signifies the parent directory"
   ]
  },
  {
   "cell_type": "markdown",
   "id": "d476c9b2",
   "metadata": {},
   "source": [
    "# 5. In C:\\bacon\\eggs\\spam.txt, which part is the dir name, and which part is the base name?"
   ]
  },
  {
   "cell_type": "markdown",
   "id": "d5f87ef5",
   "metadata": {},
   "source": [
    "Ans. dir name = C:\\bacon\\eggs, base (or file) name = spam.txt"
   ]
  },
  {
   "cell_type": "markdown",
   "id": "d2047742",
   "metadata": {},
   "source": [
    "# 6. What are the three “mode” arguments that can be passed to the open() function?"
   ]
  },
  {
   "cell_type": "markdown",
   "id": "b45c99eb",
   "metadata": {},
   "source": [
    "Ans. Three mode argumnets that  can be passed to the open() function are : read/readlines, write, and append"
   ]
  },
  {
   "cell_type": "markdown",
   "id": "e0f8ff94",
   "metadata": {},
   "source": [
    "# 7. What happens if an existing file is opened in write mode?"
   ]
  },
  {
   "cell_type": "markdown",
   "id": "079c0fc4",
   "metadata": {},
   "source": [
    " Ans.It overwrites the existing file and starts from scratch"
   ]
  },
  {
   "cell_type": "markdown",
   "id": "33d2980b",
   "metadata": {},
   "source": [
    "# 8. How do you tell the difference between read() and readlines()?"
   ]
  },
  {
   "cell_type": "markdown",
   "id": "15252483",
   "metadata": {},
   "source": [
    " Ans. - The read() method passes the entire file as a string\n",
    "- The readlines() method provides a list of string values - one string for each line of text.\n"
   ]
  },
  {
   "cell_type": "markdown",
   "id": "241ab999",
   "metadata": {},
   "source": [
    "# 9. What data structure does a shelf value resemble?"
   ]
  },
  {
   "cell_type": "markdown",
   "id": "7ed3cf8d",
   "metadata": {},
   "source": [
    " Ans.Resembles a dictionary"
   ]
  },
  {
   "cell_type": "code",
   "execution_count": null,
   "id": "679d01cb",
   "metadata": {},
   "outputs": [],
   "source": []
  }
 ],
 "metadata": {
  "kernelspec": {
   "display_name": "Python 3",
   "language": "python",
   "name": "python3"
  },
  "language_info": {
   "codemirror_mode": {
    "name": "ipython",
    "version": 3
   },
   "file_extension": ".py",
   "mimetype": "text/x-python",
   "name": "python",
   "nbconvert_exporter": "python",
   "pygments_lexer": "ipython3",
   "version": "3.8.8"
  }
 },
 "nbformat": 4,
 "nbformat_minor": 5
}
