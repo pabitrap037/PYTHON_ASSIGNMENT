{
 "cells": [
  {
   "cell_type": "markdown",
   "id": "e176f814",
   "metadata": {},
   "source": [
    "# 1.Create a function that takes a list of strings and integers, and filters out the list so that it returns a list of integers only."
   ]
  },
  {
   "cell_type": "code",
   "execution_count": 1,
   "id": "4da6ee38",
   "metadata": {},
   "outputs": [
    {
     "name": "stdout",
     "output_type": "stream",
     "text": [
      "[1, 9, 25]\n"
     ]
    }
   ],
   "source": [
    "def filter_list(mylist):\n",
    "    newlist=[]\n",
    "    for i in mylist:\n",
    "        if type(i) is int:\n",
    "            newlist.append(i)\n",
    "    print(newlist)\n",
    "\n",
    "mylist=[1,'kol',9,'lop',25]\n",
    "filter_list(mylist)"
   ]
  },
  {
   "cell_type": "markdown",
   "id": "547cf189",
   "metadata": {},
   "source": [
    "# 2.Given a list of numbers, create a function which returns the list but with each element&#39;s index in the list added to itself. This means you add 0 to the number at index 0, add 1 to the number at index 1, etc..."
   ]
  },
  {
   "cell_type": "code",
   "execution_count": 2,
   "id": "5e9e6cbf",
   "metadata": {},
   "outputs": [
    {
     "name": "stdout",
     "output_type": "stream",
     "text": [
      "[1, 3, 5, 7]\n"
     ]
    }
   ],
   "source": [
    "def add_indexes(mylist):\n",
    "    for i in range(len(mylist)):\n",
    "        mylist[i]+=i\n",
    "    print(mylist)\n",
    "mylist=[1,2,3,4]\n",
    "add_indexes(mylist)"
   ]
  },
  {
   "cell_type": "markdown",
   "id": "1ce9b81b",
   "metadata": {},
   "source": [
    "# 3.Create a function that takes the height and radius of a cone as arguments and returns the volume of the cone rounded to the nearest hundredth."
   ]
  },
  {
   "cell_type": "code",
   "execution_count": 1,
   "id": "d60aaf78",
   "metadata": {},
   "outputs": [
    {
     "name": "stdout",
     "output_type": "stream",
     "text": [
      "Enter the radius:5\n",
      "Enter the height:12\n",
      "Volume of Cone: 314.0\n"
     ]
    }
   ],
   "source": [
    "def cone_volume(r,h):\n",
    "    return (1/3)*3.14*r*r*h\n",
    "radius=int(input('Enter the radius:'))\n",
    "height=int(input('Enter the height:'))\n",
    "print('Volume of Cone:',cone_volume(radius,height))\n",
    "\n",
    "    "
   ]
  },
  {
   "cell_type": "markdown",
   "id": "3a2812fa",
   "metadata": {},
   "source": [
    "# 4.This Triangular Number Sequence is generated from a pattern of dots that form a triangle. The first 5 numbers of the sequence, or dots, are: 1, 3, 6, 10, 15 This means that the first triangle has just one dot, the second one has three dots, the third one has 6 dots and so on. Write a function that gives the number of dots with its corresponding triangle number of the sequence."
   ]
  },
  {
   "cell_type": "code",
   "execution_count": 1,
   "id": "f93b85ff",
   "metadata": {},
   "outputs": [
    {
     "name": "stdout",
     "output_type": "stream",
     "text": [
      "Enter a Number:5\n",
      "1 3 6 10 15 "
     ]
    }
   ],
   "source": [
    "def triangle_seq(n):\n",
    "    num=0\n",
    "    res=0\n",
    "    temp=1\n",
    "    while n!=0:\n",
    "        res=num+temp\n",
    "        num=res\n",
    "        print(res,end=' ')\n",
    "        temp+=1\n",
    "        n-=1\n",
    "n=int(input('Enter a Number:'))\n",
    "triangle_seq(n)"
   ]
  },
  {
   "cell_type": "markdown",
   "id": "3905bb6c",
   "metadata": {},
   "source": [
    "# 5.Create a function that takes a list of numbers between 1 and 10 (excluding one number) and returns the missing number."
   ]
  },
  {
   "cell_type": "code",
   "execution_count": 5,
   "id": "c118291f",
   "metadata": {},
   "outputs": [
    {
     "name": "stdout",
     "output_type": "stream",
     "text": [
      "Enter a List of numbers between 1 and 10:1 2 3 4 5 6 7 9 10\n",
      "8\n"
     ]
    }
   ],
   "source": [
    "def missing_num(mylist):\n",
    "    for i in range(1,11):\n",
    "        if i not in mylist:\n",
    "            print(i)\n",
    "mylist=list(map(int,input('Enter a List of numbers between 1 and 10:').split()))\n",
    "missing_num(mylist)"
   ]
  },
  {
   "cell_type": "code",
   "execution_count": null,
   "id": "1b457366",
   "metadata": {},
   "outputs": [],
   "source": []
  }
 ],
 "metadata": {
  "kernelspec": {
   "display_name": "Python 3",
   "language": "python",
   "name": "python3"
  },
  "language_info": {
   "codemirror_mode": {
    "name": "ipython",
    "version": 3
   },
   "file_extension": ".py",
   "mimetype": "text/x-python",
   "name": "python",
   "nbconvert_exporter": "python",
   "pygments_lexer": "ipython3",
   "version": "3.8.8"
  }
 },
 "nbformat": 4,
 "nbformat_minor": 5
}
