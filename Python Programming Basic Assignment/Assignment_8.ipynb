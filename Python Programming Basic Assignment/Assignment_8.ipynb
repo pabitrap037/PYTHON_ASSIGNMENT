{
 "cells": [
  {
   "cell_type": "markdown",
   "id": "a0ecd90a",
   "metadata": {},
   "source": [
    "# 1.Write a Python Program to Add Two Matrices?"
   ]
  },
  {
   "cell_type": "code",
   "execution_count": 7,
   "id": "18008837",
   "metadata": {},
   "outputs": [
    {
     "name": "stdout",
     "output_type": "stream",
     "text": [
      "Enter the no of rows of 1st Matrix:2\n",
      "Enter the no of columns of 1st Matrix:2\n",
      "Enter the elements for 1st matrix:10 10 10 10\n",
      "1st matrix:\n",
      "[[10 10]\n",
      " [10 10]]\n",
      "Enter the no of rows of 2nd Matrix:2\n",
      "Enter the no of columns of 2nd Matrix:2\n",
      "Enter the elements for 2nd matrix:10 10 10 10\n",
      "2nd matrix:\n",
      "[[10 10]\n",
      " [10 10]]\n",
      "Sum of matrices:\n",
      "[[20 20]\n",
      " [20 20]]\n"
     ]
    }
   ],
   "source": [
    "import numpy as np\n",
    "def add(mat1,mat2):\n",
    "    return mat1+mat2\n",
    "r1=int(input('Enter the no of rows of 1st Matrix:'))\n",
    "c1=int(input('Enter the no of columns of 1st Matrix:'))\n",
    "elements1=list(map(int,input('Enter the elements for 1st matrix:').split()))\n",
    "mat1=np.array(elements1).reshape(r1,c1)\n",
    "print('1st matrix:',end='\\n')\n",
    "print(mat1)\n",
    "\n",
    "r2=int(input('Enter the no of rows of 2nd Matrix:'))\n",
    "c2=int(input('Enter the no of columns of 2nd Matrix:'))\n",
    "elements2=list(map(int,input('Enter the elements for 2nd matrix:').split()))\n",
    "mat2=np.array(elements2).reshape(r2,c2)\n",
    "print('2nd matrix:',end='\\n')\n",
    "print(mat2)\n",
    "\n",
    "sum=add(mat1,mat2)\n",
    "print('Sum of matrices:',end='\\n')\n",
    "print(sum)\n",
    "    "
   ]
  },
  {
   "cell_type": "markdown",
   "id": "d7575ff6",
   "metadata": {},
   "source": [
    "# 2.Write a Python Program to Multiply Two Matrices?"
   ]
  },
  {
   "cell_type": "code",
   "execution_count": 9,
   "id": "a0427ca7",
   "metadata": {},
   "outputs": [
    {
     "name": "stdout",
     "output_type": "stream",
     "text": [
      "Enter the no of rows of 1st Matrix:2\n",
      "Enter the no of columns of 1st Matrix:2\n",
      "Enter the elements for 1st matrix:3 3 3 3\n",
      "1st matrix:\n",
      "[[3 3]\n",
      " [3 3]]\n",
      "Enter the no of rows of 2nd Matrix:2\n",
      "Enter the no of columns of 2nd Matrix:2\n",
      "Enter the elements for 2nd matrix:4 4 4 4\n",
      "2nd matrix:\n",
      "[[4 4]\n",
      " [4 4]]\n",
      "Multiplication of matrices:\n",
      "[[24 24]\n",
      " [24 24]]\n"
     ]
    }
   ],
   "source": [
    "import numpy as np\n",
    "def multiply(mat1,mat2):\n",
    "    return np.dot(mat1,mat2)\n",
    "r1=int(input('Enter the no of rows of 1st Matrix:'))\n",
    "c1=int(input('Enter the no of columns of 1st Matrix:'))\n",
    "elements1=list(map(int,input('Enter the elements for 1st matrix:').split()))\n",
    "mat1=np.array(elements1).reshape(r1,c1)\n",
    "print('1st matrix:',end='\\n')\n",
    "print(mat1)\n",
    "\n",
    "r2=int(input('Enter the no of rows of 2nd Matrix:'))\n",
    "c2=int(input('Enter the no of columns of 2nd Matrix:'))\n",
    "elements2=list(map(int,input('Enter the elements for 2nd matrix:').split()))\n",
    "mat2=np.array(elements2).reshape(r2,c2)\n",
    "print('2nd matrix:',end='\\n')\n",
    "print(mat2)\n",
    "\n",
    "prod=multiply(mat1,mat2)\n",
    "print('Multiplication of matrices:',end='\\n')\n",
    "print(prod)"
   ]
  },
  {
   "cell_type": "markdown",
   "id": "03109a6a",
   "metadata": {},
   "source": [
    "# 3.Write a Python Program to Transpose a Matrix?"
   ]
  },
  {
   "cell_type": "code",
   "execution_count": 13,
   "id": "82581ef3",
   "metadata": {},
   "outputs": [
    {
     "name": "stdout",
     "output_type": "stream",
     "text": [
      "Enter the no of rows of Matrix:3\n",
      "Enter the no of columns of Matrix:3\n",
      "Enter the elements for matrix:1 2 3 4 5 6 7 8 9\n",
      "Entered matrix:\n",
      "[[1 2 3]\n",
      " [4 5 6]\n",
      " [7 8 9]]\n",
      "Transpose of a Matrix:\n",
      "[[1 4 7]\n",
      " [2 5 8]\n",
      " [3 6 9]]\n"
     ]
    }
   ],
   "source": [
    "import numpy as np\n",
    "def transpose(mat):\n",
    "    print('Transpose of a Matrix:',end='\\n')\n",
    "    print(mat.T)\n",
    "r=int(input('Enter the no of rows of Matrix:'))\n",
    "c=int(input('Enter the no of columns of Matrix:'))\n",
    "elements=list(map(int,input('Enter the elements for matrix:').split()))\n",
    "mat=np.array(elements).reshape(r,c)\n",
    "print('Entered matrix:',end='\\n')\n",
    "print(mat)\n",
    "\n",
    "transpose(mat)\n",
    "    "
   ]
  },
  {
   "cell_type": "markdown",
   "id": "72241077",
   "metadata": {},
   "source": [
    "# 4.Write a Python Program to Sort Words in Alphabetic Order?"
   ]
  },
  {
   "cell_type": "code",
   "execution_count": 6,
   "id": "a14e75ec",
   "metadata": {},
   "outputs": [
    {
     "name": "stdout",
     "output_type": "stream",
     "text": [
      "Enter a Sentence:i am pabitra kumar pradhan\n",
      "['am', 'i', 'kumar', 'pabitra', 'pradhan']\n"
     ]
    }
   ],
   "source": [
    "def alphabetical_sort(sent1):\n",
    "    sent2=sent1.split()\n",
    "    sent3=sorted(sent2)\n",
    "    print(sent3)\n",
    "    \n",
    "sent1=input('Enter a Sentence:')\n",
    "alphabetical_sort(sent1)\n",
    "\n",
    "    "
   ]
  },
  {
   "cell_type": "markdown",
   "id": "08e0b79a",
   "metadata": {},
   "source": [
    "# 5.Write a Python Program to Remove Punctuation From a String?"
   ]
  },
  {
   "cell_type": "code",
   "execution_count": 13,
   "id": "b5183e4b",
   "metadata": {},
   "outputs": [
    {
     "name": "stdout",
     "output_type": "stream",
     "text": [
      "Enter a Stringm*\n",
      "String without punctuations m\n"
     ]
    }
   ],
   "source": [
    "def remove_punctuation(str1):\n",
    "    punctuations='!()-[]{};:\\'\"\\,<>./?@#$%^&*_~'\n",
    "    str2=''\n",
    "    for i in str1:\n",
    "        if i not in punctuations:\n",
    "            str2+=i\n",
    "    print('String without punctuations',str2)\n",
    "    \n",
    "str1=input('Enter a String')\n",
    "remove_punctuation(str1)"
   ]
  }
 ],
 "metadata": {
  "kernelspec": {
   "display_name": "Python 3",
   "language": "python",
   "name": "python3"
  },
  "language_info": {
   "codemirror_mode": {
    "name": "ipython",
    "version": 3
   },
   "file_extension": ".py",
   "mimetype": "text/x-python",
   "name": "python",
   "nbconvert_exporter": "python",
   "pygments_lexer": "ipython3",
   "version": "3.8.8"
  }
 },
 "nbformat": 4,
 "nbformat_minor": 5
}
