{
 "cells": [
  {
   "cell_type": "markdown",
   "id": "efcba31c",
   "metadata": {},
   "source": [
    "# 1.Create a function that takes three integer arguments (a, b, c) and returns the amount of integers which are of equal value."
   ]
  },
  {
   "cell_type": "code",
   "execution_count": 13,
   "id": "2bee2cf4",
   "metadata": {},
   "outputs": [
    {
     "name": "stdout",
     "output_type": "stream",
     "text": [
      "Enter three numbers:1 2 2\n",
      "2\n"
     ]
    }
   ],
   "source": [
    "def equal(a,b,c):\n",
    "    count=0\n",
    "    if a==b and a==c:\n",
    "        count=3\n",
    "    elif a==b or b==c:\n",
    "        count=2\n",
    "    else:\n",
    "        count=0\n",
    "    return count\n",
    "a,b,c=list(map(int,input('Enter three numbers:').split()))\n",
    "print(equal(a,b,c))"
   ]
  },
  {
   "cell_type": "markdown",
   "id": "edb3d5b1",
   "metadata": {},
   "source": [
    "# 2.Write a function that converts a dictionary into a list of keys-values tuples."
   ]
  },
  {
   "cell_type": "code",
   "execution_count": 20,
   "id": "347ecc35",
   "metadata": {},
   "outputs": [
    {
     "name": "stdout",
     "output_type": "stream",
     "text": [
      "Key List: ['a', 'b', 'c']\n",
      "value List: [1, 2, 3]\n"
     ]
    }
   ],
   "source": [
    "def convert(my_dict):\n",
    "    key_list=list(my_dict.keys())\n",
    "    value_list=list(my_dict.values())\n",
    "    print('Key List:',sorted(key_list))\n",
    "    print('value List:',sorted(value_list))\n",
    "my_dict={'a':1,'b':2,'c':3}\n",
    "convert(my_dict)"
   ]
  },
  {
   "cell_type": "markdown",
   "id": "9626429a",
   "metadata": {},
   "source": [
    "# 3.Write a function that creates a dictionary with each (key, value) pair being the (lower case,upper case) versions of a letter, respectively."
   ]
  },
  {
   "cell_type": "code",
   "execution_count": 43,
   "id": "bf334f8e",
   "metadata": {},
   "outputs": [
    {
     "name": "stdout",
     "output_type": "stream",
     "text": [
      "Enter the letters:s o u m y a\n",
      "{'s': 'S', 'o': 'O', 'u': 'U', 'm': 'M', 'y': 'Y', 'a': 'A'}\n"
     ]
    }
   ],
   "source": [
    "def mapping(my_list):\n",
    "    this_dict={}\n",
    "    for i in range(len(my_list)):\n",
    "        this_dict[my_list[i]]=my_list[i].upper()\n",
    "    print(this_dict)\n",
    "my_list=list(map(str,input('Enter the letters:').split()))\n",
    "mapping(my_list)\n",
    "        "
   ]
  },
  {
   "cell_type": "markdown",
   "id": "ff631a89",
   "metadata": {},
   "source": [
    "# 4.Write a function, that replaces all vowels in a string with a specified vowel."
   ]
  },
  {
   "cell_type": "code",
   "execution_count": 2,
   "id": "f0b9ba47",
   "metadata": {},
   "outputs": [
    {
     "name": "stdout",
     "output_type": "stream",
     "text": [
      "apples and bananas : upplus und bununus\n"
     ]
    }
   ],
   "source": [
    "def vow_replace(in_string,vow_char):\n",
    "    vowels = ['a','e','i','o','u']\n",
    "    out_string = ''\n",
    "    for ele in in_string:\n",
    "        if ele in vowels:\n",
    "            out_string += vow_char\n",
    "        else:\n",
    "            out_string += ele\n",
    "    print(f'{in_string} : {out_string}')\n",
    "        \n",
    "vow_replace(\"apples and bananas\", \"u\")\n",
    "    "
   ]
  },
  {
   "cell_type": "markdown",
   "id": "0ab5c708",
   "metadata": {},
   "source": [
    "# 5.Create a function that takes a string as input and capitalizes a letter if its ASCII code is even and returns its lower case version if its ASCII code is odd."
   ]
  },
  {
   "cell_type": "code",
   "execution_count": 45,
   "id": "9f31eb83",
   "metadata": {},
   "outputs": [
    {
     "name": "stdout",
     "output_type": "stream",
     "text": [
      "Enter the String:to be or not to be!&quo\n",
      "To Be oR NoT To Be!&quo\n"
     ]
    }
   ],
   "source": [
    "def ascii_capitalize(my_string):\n",
    "    Temp=''\n",
    "    for i in my_string:\n",
    "        if ord(i)%2==0:\n",
    "            Temp+=i.upper()\n",
    "        else:\n",
    "            Temp+=i\n",
    "    print(Temp)\n",
    "my_string=input('Enter the String:')\n",
    "ascii_capitalize(my_string)"
   ]
  },
  {
   "cell_type": "code",
   "execution_count": null,
   "id": "63f57a36",
   "metadata": {},
   "outputs": [],
   "source": []
  }
 ],
 "metadata": {
  "kernelspec": {
   "display_name": "Python 3",
   "language": "python",
   "name": "python3"
  },
  "language_info": {
   "codemirror_mode": {
    "name": "ipython",
    "version": 3
   },
   "file_extension": ".py",
   "mimetype": "text/x-python",
   "name": "python",
   "nbconvert_exporter": "python",
   "pygments_lexer": "ipython3",
   "version": "3.8.8"
  }
 },
 "nbformat": 4,
 "nbformat_minor": 5
}
