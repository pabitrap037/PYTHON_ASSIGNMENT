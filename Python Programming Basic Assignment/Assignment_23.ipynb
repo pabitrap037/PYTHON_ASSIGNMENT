{
 "cells": [
  {
   "cell_type": "markdown",
   "id": "608466e2",
   "metadata": {},
   "source": [
    "# 1.Create a function that takes a number as an argument and returns True or False depending on whether the number is symmetrical or not. A number is symmetrical when it is the same as its reverse."
   ]
  },
  {
   "cell_type": "code",
   "execution_count": 1,
   "id": "4af59d03",
   "metadata": {},
   "outputs": [
    {
     "name": "stdout",
     "output_type": "stream",
     "text": [
      "Enter a Number222\n",
      "The number is symmetrical\n"
     ]
    }
   ],
   "source": [
    "def check_symmetric(n):\n",
    "    if str(n) == str(n)[::-1]:\n",
    "        print('The number is symmetrical')\n",
    "    else:\n",
    "        print('the Number is not Symmetrical')\n",
    "n=int(input('Enter a Number'))\n",
    "check_symmetric(n)"
   ]
  },
  {
   "cell_type": "markdown",
   "id": "673ca00b",
   "metadata": {},
   "source": [
    "# 2.Given a string of numbers separated by a comma and space, return the product of the numbers."
   ]
  },
  {
   "cell_type": "code",
   "execution_count": 3,
   "id": "8df9123b",
   "metadata": {},
   "outputs": [
    {
     "name": "stdout",
     "output_type": "stream",
     "text": [
      "Enter List of Numbers:2, 3\n",
      "Product of numbers is: 6\n"
     ]
    }
   ],
   "source": [
    "def product(mylist):\n",
    "    prod=1\n",
    "    for i in mylist:\n",
    "        prod*=i\n",
    "    print('Product of numbers is:',prod)\n",
    "mylist=list(map(int,input('Enter List of Numbers:').split(', ')))\n",
    "product(mylist)"
   ]
  },
  {
   "cell_type": "markdown",
   "id": "d97befa8",
   "metadata": {},
   "source": [
    "# 3.Create a function that squares every digit of a number."
   ]
  },
  {
   "cell_type": "code",
   "execution_count": 30,
   "id": "957519f4",
   "metadata": {},
   "outputs": [
    {
     "name": "stdout",
     "output_type": "stream",
     "text": [
      "Enter a Number:9119\n",
      "Answer: 811181\n"
     ]
    }
   ],
   "source": [
    "def square_digits(num):\n",
    "    s=''\n",
    "    for i in str(num):\n",
    "        sq=int(i)*int(i)\n",
    "        s+=str(sq)\n",
    "    print('Answer:',s)\n",
    "num=int(input('Enter a Number:'))\n",
    "square_digits(num)"
   ]
  },
  {
   "cell_type": "markdown",
   "id": "20bd9fcb",
   "metadata": {},
   "source": [
    "# 4.Create a function that sorts a list and removes all duplicate items from it."
   ]
  },
  {
   "cell_type": "code",
   "execution_count": 18,
   "id": "5adeeb69",
   "metadata": {},
   "outputs": [
    {
     "name": "stdout",
     "output_type": "stream",
     "text": [
      "Enter a List of numbers:3 3 3 2 1\n",
      "[1, 2, 3]\n"
     ]
    }
   ],
   "source": [
    "def setify(mylist):\n",
    "    mylist.sort()\n",
    "    temp=[]\n",
    "    for i in mylist:\n",
    "        if i not in temp:\n",
    "            temp.append(i)\n",
    "    print(temp)\n",
    "mylist=list(map(int,input('Enter a List of numbers:').split()))\n",
    "setify(mylist)"
   ]
  },
  {
   "cell_type": "markdown",
   "id": "532460a1",
   "metadata": {},
   "source": [
    "# 5.Create a function that returns the mean of all digits."
   ]
  },
  {
   "cell_type": "code",
   "execution_count": 23,
   "id": "53b35189",
   "metadata": {},
   "outputs": [
    {
     "name": "stdout",
     "output_type": "stream",
     "text": [
      "Enter a Number:42\n",
      "Mean of Digits: 3\n"
     ]
    }
   ],
   "source": [
    "def mean(n):\n",
    "    d=len(str(n))\n",
    "    sum_digits=0\n",
    "    while n!=0:\n",
    "        sum_digits+=n%10\n",
    "        n=n/10\n",
    "    print('Mean of Digits:',int(sum_digits//d))\n",
    "n=int(input('Enter a Number:'))\n",
    "mean(n)"
   ]
  }
 ],
 "metadata": {
  "kernelspec": {
   "display_name": "Python 3",
   "language": "python",
   "name": "python3"
  },
  "language_info": {
   "codemirror_mode": {
    "name": "ipython",
    "version": 3
   },
   "file_extension": ".py",
   "mimetype": "text/x-python",
   "name": "python",
   "nbconvert_exporter": "python",
   "pygments_lexer": "ipython3",
   "version": "3.8.8"
  }
 },
 "nbformat": 4,
 "nbformat_minor": 5
}
