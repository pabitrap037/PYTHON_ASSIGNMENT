{
 "cells": [
  {
   "cell_type": "markdown",
   "id": "18263c25",
   "metadata": {},
   "source": [
    "# 1.Write a Python program to print \"Hello Python\"?"
   ]
  },
  {
   "cell_type": "code",
   "execution_count": 3,
   "id": "db501bc7",
   "metadata": {},
   "outputs": [
    {
     "name": "stdout",
     "output_type": "stream",
     "text": [
      "Hello Python\n"
     ]
    }
   ],
   "source": [
    "print('Hello Python')"
   ]
  },
  {
   "cell_type": "markdown",
   "id": "ac65ad62",
   "metadata": {},
   "source": [
    "# 2.Write a Python program to do arithmetical operations addition and division.?"
   ]
  },
  {
   "cell_type": "code",
   "execution_count": 1,
   "id": "11fe1297",
   "metadata": {},
   "outputs": [
    {
     "name": "stdout",
     "output_type": "stream",
     "text": [
      "Enter First Number:12\n",
      "Enter Second Number:24\n",
      "Addition: 36\n",
      "Division: 0.5\n"
     ]
    }
   ],
   "source": [
    "def operations():\n",
    "    num1=int(input('Enter First Number:'))\n",
    "    num2=int(input('Enter Second Number:'))\n",
    "    print('Addition:',num1+num2)\n",
    "    print('Division:',num1/num2)\n",
    "operations()"
   ]
  },
  {
   "cell_type": "markdown",
   "id": "4eb1591c",
   "metadata": {},
   "source": [
    "# 3.Write a Python program to find the area of a triangle?"
   ]
  },
  {
   "cell_type": "code",
   "execution_count": 3,
   "id": "9364caa5",
   "metadata": {},
   "outputs": [
    {
     "name": "stdout",
     "output_type": "stream",
     "text": [
      "Enter the base and height of the triangle:\n",
      "12\n",
      "45\n",
      "Area of the triangle= 270.0\n"
     ]
    }
   ],
   "source": [
    "def area():\n",
    "    print('Enter the base and height of the triangle:')\n",
    "    base=int(input())\n",
    "    height=int(input())\n",
    "    print('Area of the triangle=',0.5*base*height)\n",
    "area()"
   ]
  },
  {
   "cell_type": "markdown",
   "id": "d3376d92",
   "metadata": {},
   "source": [
    "# 4.Write a Python program to swap two variables?\n"
   ]
  },
  {
   "cell_type": "code",
   "execution_count": 1,
   "id": "a26c17f8",
   "metadata": {},
   "outputs": [
    {
     "name": "stdout",
     "output_type": "stream",
     "text": [
      "Enter two numbers\n",
      "a:12\n",
      "b:21\n",
      "After Swapping\n",
      "a: 21\n",
      "b: 12\n"
     ]
    }
   ],
   "source": [
    "def swap():\n",
    "    print('Enter two numbers')\n",
    "    temp=0\n",
    "    a=int(input('a:'))\n",
    "    b=int(input('b:'))\n",
    "    temp=a\n",
    "    a=b\n",
    "    b=temp\n",
    "    print('After Swapping')\n",
    "    print('a:',a)\n",
    "    print('b:',b)\n",
    "swap()"
   ]
  },
  {
   "cell_type": "markdown",
   "id": "5b87d435",
   "metadata": {},
   "source": [
    "# 5.Write a Python program to generate a random number?"
   ]
  },
  {
   "cell_type": "code",
   "execution_count": 3,
   "id": "50f5c0c0",
   "metadata": {},
   "outputs": [
    {
     "name": "stdout",
     "output_type": "stream",
     "text": [
      "5\n"
     ]
    }
   ],
   "source": [
    "import random\n",
    "print(random.randint(0,9))\n",
    "    "
   ]
  },
  {
   "cell_type": "code",
   "execution_count": null,
   "id": "f27fa92b",
   "metadata": {},
   "outputs": [],
   "source": []
  }
 ],
 "metadata": {
  "kernelspec": {
   "display_name": "Python 3",
   "language": "python",
   "name": "python3"
  },
  "language_info": {
   "codemirror_mode": {
    "name": "ipython",
    "version": 3
   },
   "file_extension": ".py",
   "mimetype": "text/x-python",
   "name": "python",
   "nbconvert_exporter": "python",
   "pygments_lexer": "ipython3",
   "version": "3.8.8"
  }
 },
 "nbformat": 4,
 "nbformat_minor": 5
}
