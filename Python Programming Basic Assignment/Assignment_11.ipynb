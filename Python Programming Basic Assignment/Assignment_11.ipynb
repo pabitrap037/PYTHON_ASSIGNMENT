{
 "cells": [
  {
   "cell_type": "markdown",
   "id": "92f2e714",
   "metadata": {},
   "source": [
    "# 1.Write a Python program to find words which are greater than given length k?"
   ]
  },
  {
   "cell_type": "code",
   "execution_count": 6,
   "id": "687fb5c7",
   "metadata": {},
   "outputs": [
    {
     "name": "stdout",
     "output_type": "stream",
     "text": [
      "Enter a Sentence:Write a Python program to find words\n",
      "Enter K value:2\n",
      "Words having more length than k:\n",
      "Write\n",
      "Python\n",
      "program\n",
      "find\n",
      "words\n"
     ]
    }
   ],
   "source": [
    "def count_word(sent,k):\n",
    "    print('Words having more length than k:')\n",
    "    for i in sent:\n",
    "        if len(i) > k:\n",
    "            print(i)\n",
    "sent=list(input('Enter a Sentence:').split())\n",
    "k=int(input('Enter K value:'))\n",
    "count_word(sent,k)"
   ]
  },
  {
   "cell_type": "markdown",
   "id": "88688f3f",
   "metadata": {},
   "source": [
    "# 2.Write a Python program for removing i-th character from a string?"
   ]
  },
  {
   "cell_type": "code",
   "execution_count": 1,
   "id": "2e6e24e6",
   "metadata": {},
   "outputs": [
    {
     "name": "stdout",
     "output_type": "stream",
     "text": [
      "Enter a String:datascience\n",
      "Enter the position of character to remove from string:3\n",
      "After removing ith Character: datscience\n"
     ]
    }
   ],
   "source": [
    "def remove_character(sent,k):\n",
    "        sent.pop(k)\n",
    "        listtostr=''.join(map(str,sent))\n",
    "        print('After removing ith Character:',listtostr)\n",
    "\n",
    "sent=list(input('Enter a String:'))\n",
    "type(sent)\n",
    "k=int(input('Enter the position of character to remove from string:'))\n",
    "remove_character(sent,k)"
   ]
  },
  {
   "cell_type": "markdown",
   "id": "9bc09431",
   "metadata": {},
   "source": [
    "# 3.Write a Python program to split and join a string?"
   ]
  },
  {
   "cell_type": "code",
   "execution_count": 2,
   "id": "cba4374b",
   "metadata": {},
   "outputs": [
    {
     "name": "stdout",
     "output_type": "stream",
     "text": [
      "Enter a String:Data Science Course\n",
      "After Spliting the String: ['Data', 'Science', 'Course']\n",
      "After Joining the String: Data_Science_Course\n"
     ]
    }
   ],
   "source": [
    "def split_join_string(string):\n",
    "    list_string=string.split()\n",
    "    print('After Spliting the String:',list_string)\n",
    "    join_string= '_'.join(list_string)\n",
    "    print('After Joining the String:',join_string)\n",
    "\n",
    "string=input('Enter a String:')\n",
    "split_join_string(string)"
   ]
  },
  {
   "cell_type": "markdown",
   "id": "fc5fbd6f",
   "metadata": {},
   "source": [
    "# 4.Write a Python to check if a given string is binary string or not?"
   ]
  },
  {
   "cell_type": "code",
   "execution_count": 3,
   "id": "5d595540",
   "metadata": {},
   "outputs": [
    {
     "name": "stdout",
     "output_type": "stream",
     "text": [
      "Enter a String:skjnd\n",
      "String is not a binary string\n"
     ]
    }
   ],
   "source": [
    "def check_binary(string):\n",
    "    bin = {'0','1'}\n",
    "    t = set(string)\n",
    "    if bin == t or t == {'0'} or t == {'1'}:\n",
    "        print(\"String is a binary string\")\n",
    "    else:\n",
    "        print(\"String is not a binary string\")\n",
    "string=input('Enter a String:')\n",
    "check_binary(string)"
   ]
  },
  {
   "cell_type": "markdown",
   "id": "717f2597",
   "metadata": {},
   "source": [
    "# 5.Write a Python program to find uncommon words from two Strings?"
   ]
  },
  {
   "cell_type": "code",
   "execution_count": 5,
   "id": "d0be23ff",
   "metadata": {},
   "outputs": [
    {
     "name": "stdout",
     "output_type": "stream",
     "text": [
      "Enter the first String:i am polo\n",
      "Enter the second String:i am jolo\n",
      "Uncommon Words:  polo jolo\n"
     ]
    }
   ],
   "source": [
    "def uncommon_words(string1,string2):\n",
    "    list1=string1.split()\n",
    "    list2=string2.split()\n",
    "    unc_words=''\n",
    "    for i in list1:\n",
    "        if i not in list2:\n",
    "            unc_words=unc_words+' '+i\n",
    "    for j in list2:\n",
    "        if j not in list1:\n",
    "            unc_words=unc_words+' '+j\n",
    "    print('Uncommon Words:',unc_words)\n",
    "string1=input('Enter the first String:')\n",
    "string2=input('Enter the second String:')\n",
    "uncommon_words(string1,string2)"
   ]
  },
  {
   "cell_type": "markdown",
   "id": "2144ee28",
   "metadata": {},
   "source": [
    "# 6.Write a Python to find all duplicate characters in string?"
   ]
  },
  {
   "cell_type": "code",
   "execution_count": 18,
   "id": "95f0144d",
   "metadata": {},
   "outputs": [
    {
     "name": "stdout",
     "output_type": "stream",
     "text": [
      "Enter a word: datascience\n",
      "a c e\n"
     ]
    }
   ],
   "source": [
    "def find_duplicate():\n",
    "    string =input(\"Enter a word: \")\n",
    "    duplicate=[]\n",
    "    for char in string:\n",
    "        if string.count(char) > 1:\n",
    "            if char not in duplicate:\n",
    "                duplicate.append(char)\n",
    "    print(*duplicate)\n",
    "find_duplicate()"
   ]
  },
  {
   "cell_type": "markdown",
   "id": "42cec764",
   "metadata": {},
   "source": [
    "# 7.Write a Python Program to check if a string contains any special character?"
   ]
  },
  {
   "cell_type": "code",
   "execution_count": 29,
   "id": "e7995a03",
   "metadata": {},
   "outputs": [
    {
     "name": "stdout",
     "output_type": "stream",
     "text": [
      "Enter a String:kzjbhdkdj*\n",
      "String Contains Special Characters\n"
     ]
    }
   ],
   "source": [
    "def special_character(string):\n",
    "    special='[@_!#$%^&*()<>?/\\|}{~:]'\n",
    "    for char in string:\n",
    "        if char in special:\n",
    "            flag=1\n",
    "        else:\n",
    "            flag=0\n",
    "    if flag == 1:\n",
    "        print('String Contains Special Characters')\n",
    "    else:\n",
    "        print('String Does Not Contains Special Character')\n",
    "\n",
    "string=input('Enter a String:')\n",
    "special_character(string)"
   ]
  }
 ],
 "metadata": {
  "kernelspec": {
   "display_name": "Python 3",
   "language": "python",
   "name": "python3"
  },
  "language_info": {
   "codemirror_mode": {
    "name": "ipython",
    "version": 3
   },
   "file_extension": ".py",
   "mimetype": "text/x-python",
   "name": "python",
   "nbconvert_exporter": "python",
   "pygments_lexer": "ipython3",
   "version": "3.8.8"
  }
 },
 "nbformat": 4,
 "nbformat_minor": 5
}
