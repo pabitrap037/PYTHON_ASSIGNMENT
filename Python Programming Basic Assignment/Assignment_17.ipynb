{
 "cells": [
  {
   "cell_type": "markdown",
   "id": "d40763b3",
   "metadata": {},
   "source": [
    "# 1.Create a function that takes three arguments a, b, c and returns the sum of the numbers that are evenly divided by c from the range a, b inclusive."
   ]
  },
  {
   "cell_type": "code",
   "execution_count": 5,
   "id": "e0118e2c",
   "metadata": {},
   "outputs": [
    {
     "name": "stdout",
     "output_type": "stream",
     "text": [
      "18\n"
     ]
    }
   ],
   "source": [
    "def evenly_divisible(a,b,c):\n",
    "    sum=0\n",
    "    for i in range(a,b):\n",
    "        if i % c == 0:\n",
    "            sum+=i\n",
    "    print(sum)\n",
    "evenly_divisible(1,10,3)"
   ]
  },
  {
   "cell_type": "markdown",
   "id": "1a269126",
   "metadata": {},
   "source": [
    "# 2.Create a function that returns True if a given inequality expression is correct and False otherwise."
   ]
  },
  {
   "cell_type": "code",
   "execution_count": 7,
   "id": "494d5d7e",
   "metadata": {},
   "outputs": [
    {
     "name": "stdout",
     "output_type": "stream",
     "text": [
      "True\n",
      "False\n"
     ]
    }
   ],
   "source": [
    "def correct_signs(check_str):\n",
    "    if eval(check_str):\n",
    "        print('True')\n",
    "    else:\n",
    "        print('False')\n",
    "correct_signs(\"3 < 7 < 11\")\n",
    "correct_signs(\"13 > 44 > 33 > 1\")"
   ]
  },
  {
   "cell_type": "markdown",
   "id": "1a6c324b",
   "metadata": {},
   "source": [
    "# 3.Create a function that replaces all the vowels in a string with a specified character."
   ]
  },
  {
   "cell_type": "code",
   "execution_count": 4,
   "id": "11a12b41",
   "metadata": {},
   "outputs": [
    {
     "name": "stdout",
     "output_type": "stream",
     "text": [
      "Enter a String:datascience\n",
      "Enter the character:&\n",
      "d&t&sc&&nc&\n"
     ]
    }
   ],
   "source": [
    "def replace_vowels(my_string,ch):\n",
    "    x=list(my_string)\n",
    "    vowel_set=['a','e','i','o','u']\n",
    "    for i in range(len(x)):\n",
    "        if x[i] in vowel_set:\n",
    "            x[i]=ch\n",
    "        else:\n",
    "            pass\n",
    "    x=''.join(x)\n",
    "    print(x)\n",
    "my_string=input('Enter a String:')\n",
    "ch=input('Enter the character:')\n",
    "replace_vowels(my_string,ch)"
   ]
  },
  {
   "cell_type": "markdown",
   "id": "3a7c41c7",
   "metadata": {},
   "source": [
    "# 4.Write a function that calculates the factorial of a number recursively."
   ]
  },
  {
   "cell_type": "code",
   "execution_count": 3,
   "id": "2fa6eb73",
   "metadata": {},
   "outputs": [
    {
     "data": {
      "text/plain": [
       "120"
      ]
     },
     "execution_count": 3,
     "metadata": {},
     "output_type": "execute_result"
    }
   ],
   "source": [
    "def recur_fact(n):\n",
    "    if n==1:\n",
    "        return 1\n",
    "    else:\n",
    "        return n*recur_fact(n-1)\n",
    "recur_fact(5)"
   ]
  },
  {
   "cell_type": "markdown",
   "id": "50a67ed8",
   "metadata": {},
   "source": [
    "# 5.Create a function that computes the hamming distance between two strings."
   ]
  },
  {
   "cell_type": "code",
   "execution_count": 7,
   "id": "5398403e",
   "metadata": {},
   "outputs": [
    {
     "name": "stdout",
     "output_type": "stream",
     "text": [
      "Enter 1st String:strong\n",
      "Enter 2nd String:strugn\n"
     ]
    },
    {
     "data": {
      "text/plain": [
       "3"
      ]
     },
     "execution_count": 7,
     "metadata": {},
     "output_type": "execute_result"
    }
   ],
   "source": [
    "def hamming_distance(mystring1,mystring2):\n",
    "    i=count=0\n",
    "    if len(mystring1) == len(mystring2):\n",
    "        while i < len(mystring1):\n",
    "            if mystring1[i] != mystring2[i]:\n",
    "                count+=1\n",
    "            i+=1\n",
    "        return count\n",
    "    else:\n",
    "        print('Invalid Input')\n",
    "mystring1=input('Enter 1st String:')\n",
    "mystring2=input('Enter 2nd String:')\n",
    "hamming_distance(mystring1,mystring2)"
   ]
  },
  {
   "cell_type": "code",
   "execution_count": null,
   "id": "2b21e628",
   "metadata": {},
   "outputs": [],
   "source": []
  }
 ],
 "metadata": {
  "kernelspec": {
   "display_name": "Python 3",
   "language": "python",
   "name": "python3"
  },
  "language_info": {
   "codemirror_mode": {
    "name": "ipython",
    "version": 3
   },
   "file_extension": ".py",
   "mimetype": "text/x-python",
   "name": "python",
   "nbconvert_exporter": "python",
   "pygments_lexer": "ipython3",
   "version": "3.8.8"
  }
 },
 "nbformat": 4,
 "nbformat_minor": 5
}
