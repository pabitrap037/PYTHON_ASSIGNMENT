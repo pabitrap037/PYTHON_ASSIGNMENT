{
 "cells": [
  {
   "cell_type": "markdown",
   "id": "d082ed7a",
   "metadata": {},
   "source": [
    "# 1.Write a Python program to find sum of elements in list?"
   ]
  },
  {
   "cell_type": "code",
   "execution_count": 1,
   "id": "849975d9",
   "metadata": {},
   "outputs": [
    {
     "name": "stdout",
     "output_type": "stream",
     "text": [
      "Enter the elements:10 20 30\n",
      "Sum of elements: 60\n"
     ]
    }
   ],
   "source": [
    "def list_sum():\n",
    "    l=list(map(int,input('Enter the elements:').split()))\n",
    "    print('Sum of elements:',sum(l))\n",
    "list_sum()"
   ]
  },
  {
   "cell_type": "markdown",
   "id": "0cd74120",
   "metadata": {},
   "source": [
    "# 2.Write a Python program to Multiply all numbers in the list?"
   ]
  },
  {
   "cell_type": "code",
   "execution_count": 5,
   "id": "4c120427",
   "metadata": {},
   "outputs": [
    {
     "name": "stdout",
     "output_type": "stream",
     "text": [
      "Enter the elements:1 2 3 5\n",
      "Multiplication of all elements in list: 30\n"
     ]
    }
   ],
   "source": [
    "def list_multiply(l):\n",
    "    prod=1\n",
    "    for i in l:\n",
    "        prod=prod*i\n",
    "    return prod\n",
    "\n",
    "l=list(map(int,input('Enter the elements:').split()))\n",
    "result=list_multiply(l)\n",
    "print('Multiplication of all elements in list:',result)"
   ]
  },
  {
   "cell_type": "markdown",
   "id": "575812e4",
   "metadata": {},
   "source": [
    "# 3.Write a Python program to find smallest number in a list?"
   ]
  },
  {
   "cell_type": "code",
   "execution_count": 6,
   "id": "94f13bf0",
   "metadata": {},
   "outputs": [
    {
     "name": "stdout",
     "output_type": "stream",
     "text": [
      "Enter the elements:1 2 3 0\n",
      "Smallest Element: 0\n"
     ]
    }
   ],
   "source": [
    "def small_element(l):\n",
    "    print('Smallest Number in the List:',min(l))\n",
    "l=list(map(int,input('Enter the elements:').split()))\n",
    "small_element(l)"
   ]
  },
  {
   "cell_type": "markdown",
   "id": "fad59ad7",
   "metadata": {},
   "source": [
    "# 4.Write a Python program to find largest number in a list?"
   ]
  },
  {
   "cell_type": "code",
   "execution_count": 7,
   "id": "7812de9a",
   "metadata": {},
   "outputs": [
    {
     "name": "stdout",
     "output_type": "stream",
     "text": [
      "Enter the elements:1 5 99\n",
      "Largest Number in the List: 99\n"
     ]
    }
   ],
   "source": [
    "def max_element(l):\n",
    "    print('Largest Number in the List:',max(l))\n",
    "l=list(map(int,input('Enter the elements:').split()))\n",
    "max_element(l)"
   ]
  },
  {
   "cell_type": "markdown",
   "id": "9ff4099d",
   "metadata": {},
   "source": [
    "# 5.Write a Python program to find second largest number in a list?"
   ]
  },
  {
   "cell_type": "code",
   "execution_count": 10,
   "id": "ff0e7dbc",
   "metadata": {},
   "outputs": [
    {
     "name": "stdout",
     "output_type": "stream",
     "text": [
      "Enter the elements:1 2 5 9 7\n",
      "Second Largest Number in the List: 7\n"
     ]
    }
   ],
   "source": [
    "def max_element(l):\n",
    "    l.remove(max(l))\n",
    "    print('Second Largest Number in the List:',max(l))\n",
    "l=list(map(int,input('Enter the elements:').split()))\n",
    "max_element(l)"
   ]
  },
  {
   "cell_type": "markdown",
   "id": "14a5b52c",
   "metadata": {},
   "source": [
    "# 6.Write a Python program to find N largest elements from a list?"
   ]
  },
  {
   "cell_type": "code",
   "execution_count": 14,
   "id": "2b2e248a",
   "metadata": {},
   "outputs": [
    {
     "name": "stdout",
     "output_type": "stream",
     "text": [
      "Enter the Elements:1 2 3 4 5\n",
      "Enter the number of largest elements :3\n",
      "1 Largest Number in the List: 5\n",
      "2 Largest Number in the List: 4\n",
      "3 Largest Number in the List: 3\n"
     ]
    }
   ],
   "source": [
    "def largest(l,n):\n",
    "    for i in range(1,n+1):\n",
    "        print(i,\"Largest Number in the List:\",max(l))\n",
    "        l.remove(max(l))\n",
    "l=list(map(int,input('Enter the Elements:').split()))\n",
    "num=int(input('Enter the number of largest elements :'))\n",
    "largest(l,num)"
   ]
  },
  {
   "cell_type": "markdown",
   "id": "359b826a",
   "metadata": {},
   "source": [
    "# 7.Write a Python program to print even numbers in a list?"
   ]
  },
  {
   "cell_type": "code",
   "execution_count": 16,
   "id": "aef12061",
   "metadata": {},
   "outputs": [
    {
     "name": "stdout",
     "output_type": "stream",
     "text": [
      "Enter the elements:1 2 4 6 8\n",
      "Even Numbers in the list:\n",
      "2 4 6 8 "
     ]
    }
   ],
   "source": [
    "def check_even(my_list):\n",
    "    print('Even Numbers in the list:')\n",
    "    for i in my_list:\n",
    "        if i % 2 == 0:\n",
    "            print(i,end=' ')\n",
    "my_list=list(map(int,input('Enter the elements:').split()))\n",
    "check_even(my_list)"
   ]
  },
  {
   "cell_type": "markdown",
   "id": "37329cde",
   "metadata": {},
   "source": [
    "# 8.Write a Python program to print odd numbers in a List?"
   ]
  },
  {
   "cell_type": "code",
   "execution_count": 17,
   "id": "20cdd351",
   "metadata": {},
   "outputs": [
    {
     "name": "stdout",
     "output_type": "stream",
     "text": [
      "Enter the elements:1 2 4 59 3\n",
      "Odd Numbers in the list:\n",
      "1 59 3 "
     ]
    }
   ],
   "source": [
    "def check_odd(my_list):\n",
    "    print('Odd Numbers in the list:')\n",
    "    for i in my_list:\n",
    "        if i % 2 != 0:\n",
    "            print(i,end=' ')\n",
    "my_list=list(map(int,input('Enter the elements:').split()))\n",
    "check_odd(my_list)"
   ]
  },
  {
   "cell_type": "markdown",
   "id": "9dfbc47d",
   "metadata": {},
   "source": [
    "# 9.Write a Python program to Remove empty List from List?"
   ]
  },
  {
   "cell_type": "code",
   "execution_count": 19,
   "id": "8ce9fabb",
   "metadata": {},
   "outputs": [
    {
     "name": "stdout",
     "output_type": "stream",
     "text": [
      "Enter the List:[1,2,[],3,4]\n",
      "[1,2,[],3,4]\n"
     ]
    }
   ],
   "source": [
    "def remove_list(my_list):\n",
    "    for i in my_list:\n",
    "        if len(i)==0:\n",
    "            remove(i)\n",
    "    print(my_list)\n",
    "my_list=input('Enter the List:')\n",
    "remove_list(my_list)"
   ]
  },
  {
   "cell_type": "markdown",
   "id": "9bd7d751",
   "metadata": {},
   "source": [
    "# 10.Write a Python program to Cloning or Copying a list?"
   ]
  },
  {
   "cell_type": "code",
   "execution_count": 20,
   "id": "d8873c52",
   "metadata": {},
   "outputs": [
    {
     "name": "stdout",
     "output_type": "stream",
     "text": [
      "Enter the elements:1 5 6 7 8\n",
      "Copied List: [1, 5, 6, 7, 8]\n"
     ]
    }
   ],
   "source": [
    "def copy_list(my_list):\n",
    "    cp_list=my_list.copy()\n",
    "    print('Copied List:',cp_list)\n",
    "my_list=list(map(int,input('Enter the elements:').split()))\n",
    "copy_list(my_list)"
   ]
  },
  {
   "cell_type": "markdown",
   "id": "57b58666",
   "metadata": {},
   "source": [
    "# 11.Write a Python program to Count occurrences of an element in a list?"
   ]
  },
  {
   "cell_type": "code",
   "execution_count": 21,
   "id": "d56a25f2",
   "metadata": {},
   "outputs": [
    {
     "name": "stdout",
     "output_type": "stream",
     "text": [
      "Enter a List1 5 6 4 8 9 2 4 2 2\n",
      "Enter the element to find the no of occurences2\n",
      "No of Occurences of the Element: 3\n"
     ]
    }
   ],
   "source": [
    "def count_occurences(my_list,ele):\n",
    "    count=0\n",
    "    for i in my_list:\n",
    "        if ele == i:\n",
    "            count=count+1\n",
    "    print('No of Occurences of the Element:',count)\n",
    "my_list=list(map(int,input('Enter a List').split()))\n",
    "ele = int(input('Enter the element to find the no of occurences'))\n",
    "count_occurences(my_list,ele)"
   ]
  },
  {
   "cell_type": "code",
   "execution_count": null,
   "id": "21ed63d0",
   "metadata": {},
   "outputs": [],
   "source": []
  }
 ],
 "metadata": {
  "kernelspec": {
   "display_name": "Python 3",
   "language": "python",
   "name": "python3"
  },
  "language_info": {
   "codemirror_mode": {
    "name": "ipython",
    "version": 3
   },
   "file_extension": ".py",
   "mimetype": "text/x-python",
   "name": "python",
   "nbconvert_exporter": "python",
   "pygments_lexer": "ipython3",
   "version": "3.8.8"
  }
 },
 "nbformat": 4,
 "nbformat_minor": 5
}
