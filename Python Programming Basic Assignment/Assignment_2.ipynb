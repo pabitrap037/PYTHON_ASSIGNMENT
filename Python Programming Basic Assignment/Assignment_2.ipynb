{
 "cells": [
  {
   "cell_type": "markdown",
   "id": "dd1cfb2e",
   "metadata": {},
   "source": [
    "# 1.Write a Python program to convert kilometers to miles?\n"
   ]
  },
  {
   "cell_type": "code",
   "execution_count": 5,
   "id": "3f8fcd13",
   "metadata": {},
   "outputs": [
    {
     "name": "stdout",
     "output_type": "stream",
     "text": [
      "Enter distance in kilometers:\n",
      "13\n",
      "Distance in miles: 8.06\n"
     ]
    }
   ],
   "source": [
    "def conversion():\n",
    "    print('Enter distance in kilometers:')\n",
    "    distance=int(input())\n",
    "    print('Distance in miles:',0.62*distance)\n",
    "conversion()"
   ]
  },
  {
   "cell_type": "markdown",
   "id": "c0e8abff",
   "metadata": {},
   "source": [
    "# 2.Write a Python program to convert Celsius to Fahrenheit?"
   ]
  },
  {
   "cell_type": "code",
   "execution_count": 7,
   "id": "1d4f4444",
   "metadata": {},
   "outputs": [
    {
     "name": "stdout",
     "output_type": "stream",
     "text": [
      "Enter Temperature in Celsius:\n",
      "23\n",
      "Temperature in Fahrenheit: 73.4\n"
     ]
    }
   ],
   "source": [
    "def conversion():\n",
    "    print('Enter Temperature in Celsius:')\n",
    "    temp_celsius=int(input())\n",
    "    print('Temperature in Fahrenheit:',(temp_celsius*9/5)+32)\n",
    "conversion()"
   ]
  },
  {
   "cell_type": "markdown",
   "id": "9a0e551d",
   "metadata": {},
   "source": [
    "# 3.Write a Python program to display calendar?\n"
   ]
  },
  {
   "cell_type": "code",
   "execution_count": 10,
   "id": "43db4ed9",
   "metadata": {},
   "outputs": [
    {
     "name": "stdout",
     "output_type": "stream",
     "text": [
      "Enter the year\n",
      "860\n",
      "Calendar                                   860\n",
      "\n",
      "      January                   February                   March\n",
      "Mo Tu We Th Fr Sa Su      Mo Tu We Th Fr Sa Su      Mo Tu We Th Fr Sa Su\n",
      "          1  2  3  4                         1       1  2  3  4  5  6  7\n",
      " 5  6  7  8  9 10 11       2  3  4  5  6  7  8       8  9 10 11 12 13 14\n",
      "12 13 14 15 16 17 18       9 10 11 12 13 14 15      15 16 17 18 19 20 21\n",
      "19 20 21 22 23 24 25      16 17 18 19 20 21 22      22 23 24 25 26 27 28\n",
      "26 27 28 29 30 31         23 24 25 26 27 28 29      29 30 31\n",
      "\n",
      "       April                      May                       June\n",
      "Mo Tu We Th Fr Sa Su      Mo Tu We Th Fr Sa Su      Mo Tu We Th Fr Sa Su\n",
      "          1  2  3  4                      1  2          1  2  3  4  5  6\n",
      " 5  6  7  8  9 10 11       3  4  5  6  7  8  9       7  8  9 10 11 12 13\n",
      "12 13 14 15 16 17 18      10 11 12 13 14 15 16      14 15 16 17 18 19 20\n",
      "19 20 21 22 23 24 25      17 18 19 20 21 22 23      21 22 23 24 25 26 27\n",
      "26 27 28 29 30            24 25 26 27 28 29 30      28 29 30\n",
      "                          31\n",
      "\n",
      "        July                     August                  September\n",
      "Mo Tu We Th Fr Sa Su      Mo Tu We Th Fr Sa Su      Mo Tu We Th Fr Sa Su\n",
      "          1  2  3  4                         1             1  2  3  4  5\n",
      " 5  6  7  8  9 10 11       2  3  4  5  6  7  8       6  7  8  9 10 11 12\n",
      "12 13 14 15 16 17 18       9 10 11 12 13 14 15      13 14 15 16 17 18 19\n",
      "19 20 21 22 23 24 25      16 17 18 19 20 21 22      20 21 22 23 24 25 26\n",
      "26 27 28 29 30 31         23 24 25 26 27 28 29      27 28 29 30\n",
      "                          30 31\n",
      "\n",
      "      October                   November                  December\n",
      "Mo Tu We Th Fr Sa Su      Mo Tu We Th Fr Sa Su      Mo Tu We Th Fr Sa Su\n",
      "             1  2  3       1  2  3  4  5  6  7             1  2  3  4  5\n",
      " 4  5  6  7  8  9 10       8  9 10 11 12 13 14       6  7  8  9 10 11 12\n",
      "11 12 13 14 15 16 17      15 16 17 18 19 20 21      13 14 15 16 17 18 19\n",
      "18 19 20 21 22 23 24      22 23 24 25 26 27 28      20 21 22 23 24 25 26\n",
      "25 26 27 28 29 30 31      29 30                     27 28 29 30 31\n",
      "\n"
     ]
    }
   ],
   "source": [
    "import calendar\n",
    "def printcalendar():\n",
    "    print(\"Enter the year\")\n",
    "    year=int(input())\n",
    "    print('Calendar',calendar.calendar(year))\n",
    "printcalendar()\n",
    "    "
   ]
  },
  {
   "cell_type": "markdown",
   "id": "1a5eb847",
   "metadata": {},
   "source": [
    "# 4.Write a Python program to solve quadratic equation?\n"
   ]
  },
  {
   "cell_type": "code",
   "execution_count": null,
   "id": "d8bff2c4",
   "metadata": {},
   "outputs": [
    {
     "name": "stdout",
     "output_type": "stream",
     "text": [
      "Enter the values of a,b,c\n"
     ]
    }
   ],
   "source": [
    "import cmath\n",
    "def solve():\n",
    "    print('Enter the values of a,b,c')\n",
    "    a=int(input('a:'))\n",
    "    b=int(input('b:'))\n",
    "    c=int(input('c:'))\n",
    "    d=sqrt(b*b-4*a*c)\n",
    "    sol1=-b-cmath.sqrt(d)/2*a\n",
    "    sol2=-b+cmath.sqrt(d)/2*a\n",
    "    print('Solutions are:',sol1,sol2)\n",
    "solve()\n",
    "    "
   ]
  },
  {
   "cell_type": "markdown",
   "id": "6aeaebbb",
   "metadata": {},
   "source": [
    "# 5.Write a Python program to swap two variables without temp variable?\n"
   ]
  },
  {
   "cell_type": "code",
   "execution_count": 2,
   "id": "4661f6de",
   "metadata": {},
   "outputs": [
    {
     "name": "stdout",
     "output_type": "stream",
     "text": [
      "Enter two numbers:\n",
      "a:57\n",
      "b:85\n",
      "After Swapping\n",
      "a: 85\n",
      "b: 57\n"
     ]
    }
   ],
   "source": [
    "def swap():\n",
    "    print('Enter two numbers:')\n",
    "    a=int(input('a:'))\n",
    "    b=int(input('b:'))\n",
    "    print('After Swapping')\n",
    "    a,b=b,a\n",
    "    print('a:',a)\n",
    "    print('b:',b)\n",
    "swap()"
   ]
  },
  {
   "cell_type": "code",
   "execution_count": null,
   "id": "32093863",
   "metadata": {},
   "outputs": [],
   "source": []
  }
 ],
 "metadata": {
  "kernelspec": {
   "display_name": "Python 3",
   "language": "python",
   "name": "python3"
  },
  "language_info": {
   "codemirror_mode": {
    "name": "ipython",
    "version": 3
   },
   "file_extension": ".py",
   "mimetype": "text/x-python",
   "name": "python",
   "nbconvert_exporter": "python",
   "pygments_lexer": "ipython3",
   "version": "3.8.8"
  }
 },
 "nbformat": 4,
 "nbformat_minor": 5
}
