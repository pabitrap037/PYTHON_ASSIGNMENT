{
 "cells": [
  {
   "cell_type": "markdown",
   "id": "a3bc2ffe",
   "metadata": {},
   "source": [
    "# 1.Write a Python program to Extract Unique values dictionary values?"
   ]
  },
  {
   "cell_type": "code",
   "execution_count": 2,
   "id": "0b3f5147",
   "metadata": {},
   "outputs": [
    {
     "name": "stdout",
     "output_type": "stream",
     "text": [
      "enter a n value:3\n",
      "4\n",
      "5\n",
      "1\n",
      "3\n",
      "6\n",
      "9\n",
      "dict_values(['5', '3', '9'])\n"
     ]
    }
   ],
   "source": [
    "n = int(input(\"enter a n value:\"))\n",
    "d = {}\n",
    "\n",
    "for i in range(n):\n",
    "    keys = input()\n",
    "    values = input()\n",
    "    d[keys] = values\n",
    "x=d.values()\n",
    "print(x)"
   ]
  },
  {
   "cell_type": "markdown",
   "id": "b977af47",
   "metadata": {},
   "source": [
    "# 2.Write a Python program to find the sum of all items in a dictionary?"
   ]
  },
  {
   "cell_type": "code",
   "execution_count": 10,
   "id": "012ce2f5",
   "metadata": {},
   "outputs": [
    {
     "name": "stdout",
     "output_type": "stream",
     "text": [
      "Enter the size of dictionary:2\n",
      "Enter the key:a\n",
      "Enter the value:12\n",
      "Enter the key:b\n",
      "Enter the value:23\n",
      "Sum of all items: 35\n"
     ]
    }
   ],
   "source": [
    "def sum(this_dict):\n",
    "    sum=0\n",
    "    for i in this_dict:\n",
    "        sum+=this_dict[i]\n",
    "    print('Sum of all items:',sum)\n",
    "    \n",
    "n = int(input(\"Enter the size of dictionary:\"))\n",
    "d={}\n",
    "for i in range(n):\n",
    "    keys = input('Enter the key:')\n",
    "    values = int(input('Enter the value:'))\n",
    "    d[keys] = values\n",
    "sum(d)"
   ]
  },
  {
   "cell_type": "markdown",
   "id": "4c967789",
   "metadata": {},
   "source": [
    "# 3.Write a Python program to Merging two Dictionaries?"
   ]
  },
  {
   "cell_type": "code",
   "execution_count": 12,
   "id": "59d98fda",
   "metadata": {},
   "outputs": [
    {
     "name": "stdout",
     "output_type": "stream",
     "text": [
      "{'d': 6, 'c': 4, 'a': 10, 'b': 8}\n"
     ]
    }
   ],
   "source": [
    "def Merge(dict1,dict2):\n",
    "    return(dict2.update(dict1))\n",
    "\n",
    "dict1 = {'a': 10, 'b': 8}\n",
    "dict2 = {'d': 6, 'c': 4}\n",
    "Merge(dict1,dict2)\n",
    "print(dict2)"
   ]
  },
  {
   "cell_type": "markdown",
   "id": "b0665a7a",
   "metadata": {},
   "source": [
    "# 4.Write a Python program to convert key-values list to flat dictionary?"
   ]
  },
  {
   "cell_type": "code",
   "execution_count": 7,
   "id": "30be4f0d",
   "metadata": {},
   "outputs": [
    {
     "name": "stdout",
     "output_type": "stream",
     "text": [
      "Enter the key values:a b c d\n",
      "Enter the key values:10 20 30 40\n",
      "After Converting into flat Dictionary: {'a': 10, 'b': 20, 'c': 30, 'd': 40}\n"
     ]
    }
   ],
   "source": [
    "def convert_list_dict(key_list,value_list):\n",
    "    this_dict={}\n",
    "    for k,v in zip(range(len(key_list)),range(len(value_list))):\n",
    "        key=key_list[k]\n",
    "        value=value_list[v]\n",
    "        this_dict[key]=value\n",
    "\n",
    "    print('After Converting into flat Dictionary:',this_dict)\n",
    "\n",
    "    \n",
    "key_list=list(map(str,input('Enter the key values:').split()))\n",
    "value_list=list(map(int,input('Enter the key values:').split()))\n",
    "convert_list_dict(key_list,value_list)\n"
   ]
  },
  {
   "cell_type": "markdown",
   "id": "f6925fd9",
   "metadata": {},
   "source": [
    "# 5.Write a Python program to insertion at the beginning in OrderedDict?"
   ]
  },
  {
   "cell_type": "code",
   "execution_count": 20,
   "id": "84918863",
   "metadata": {},
   "outputs": [
    {
     "name": "stdout",
     "output_type": "stream",
     "text": [
      "Enter the no of elements for Ordered dict:2\n",
      "Enter the key:a\n",
      "Enter the value:1\n",
      "Enter the key:b\n",
      "Enter the value:2\n",
      "Enter the key for insertion at beginning:c\n",
      "Enter the value for insertion at beginning:3\n",
      "Enter the key for insertion at beginning:d\n",
      "Enter the value for insertion at beginning:4\n",
      "OrderedDict([('d', 4), ('c', 3), ('a', 1), ('b', 2)])\n"
     ]
    }
   ],
   "source": [
    "from collections import OrderedDict\n",
    "def insert_beg(my_dict):\n",
    "    for i in range(2):\n",
    "        key = input('Enter the key for insertion at beginning:')\n",
    "        value = int(input('Enter the value for insertion at beginning:'))\n",
    "        my_dict.update({key:value})\n",
    "        my_dict.move_to_end(key,last=False)\n",
    "    print(str(my_dict))\n",
    "    \n",
    "od=OrderedDict()\n",
    "n=int(input('Enter the no of elements for Ordered dict:'))\n",
    "for i in range(n):\n",
    "    key = input('Enter the key:')\n",
    "    value = int(input('Enter the value:'))\n",
    "    od[key]=value\n",
    "insert_beg(od)\n",
    "    \n",
    "    "
   ]
  },
  {
   "cell_type": "markdown",
   "id": "62fca2ef",
   "metadata": {},
   "source": [
    "# 6.Write a Python program to check order of character in string using OrderedDict()?"
   ]
  },
  {
   "cell_type": "code",
   "execution_count": 23,
   "id": "06e279aa",
   "metadata": {},
   "outputs": [
    {
     "name": "stdout",
     "output_type": "stream",
     "text": [
      "Enter the String:data\n",
      "Enter the pattern:at\n",
      "The order of character is correct\n"
     ]
    }
   ],
   "source": [
    "from collections import OrderedDict\n",
    "def check_order(my_input, my_pattern):\n",
    "    my_dict = OrderedDict.fromkeys(my_input)\n",
    "    pattern_index = 0\n",
    "    for key,value in my_dict.items():\n",
    "              if (key == my_pattern[pattern_index]):\n",
    "                    pattern_index = pattern_index + 1\n",
    "\n",
    "    if (pattern_index == (len(my_pattern))):\n",
    "        print('The order of character is correct')\n",
    "    else:\n",
    "        print('The order of character is incorrect')\n",
    "\n",
    "my_input=input('Enter the String:')\n",
    "input_pattern =input('Enter the pattern:')\n",
    "check_order(my_input,input_pattern)"
   ]
  },
  {
   "cell_type": "markdown",
   "id": "91fed8a7",
   "metadata": {},
   "source": [
    "# 7.Write a Python program to sort Python Dictionaries by Key or Value?"
   ]
  },
  {
   "cell_type": "code",
   "execution_count": 12,
   "id": "319162f3",
   "metadata": {},
   "outputs": [
    {
     "name": "stdout",
     "output_type": "stream",
     "text": [
      "Enter the no of elements for Ordered dict:3\n",
      "Enter the key:s\n",
      "Enter the value:5\n",
      "Enter the key:f\n",
      "Enter the value:6\n",
      "Enter the key:t\n",
      "Enter the value:8\n",
      "[5, 6, 8]\n"
     ]
    }
   ],
   "source": [
    "this_dict={}\n",
    "n=int(input('Enter the no of elements for Ordered dict:'))\n",
    "for i in range(n):\n",
    "    key = input('Enter the key:')\n",
    "    value = int(input('Enter the value:'))\n",
    "    this_dict[key]=value\n",
    "print(sorted(this_dict.values()))"
   ]
  }
 ],
 "metadata": {
  "kernelspec": {
   "display_name": "Python 3",
   "language": "python",
   "name": "python3"
  },
  "language_info": {
   "codemirror_mode": {
    "name": "ipython",
    "version": 3
   },
   "file_extension": ".py",
   "mimetype": "text/x-python",
   "name": "python",
   "nbconvert_exporter": "python",
   "pygments_lexer": "ipython3",
   "version": "3.8.8"
  }
 },
 "nbformat": 4,
 "nbformat_minor": 5
}
