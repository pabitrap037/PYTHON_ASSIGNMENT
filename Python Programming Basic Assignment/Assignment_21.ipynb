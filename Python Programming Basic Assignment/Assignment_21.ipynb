{
 "cells": [
  {
   "cell_type": "markdown",
   "id": "97547ec2",
   "metadata": {},
   "source": [
    "# 1.Write a function that takes a list and a number as arguments. Add the number to the end of the list, then remove the first element of the list. The function should then return the updated list."
   ]
  },
  {
   "cell_type": "code",
   "execution_count": 1,
   "id": "b8da8737",
   "metadata": {},
   "outputs": [
    {
     "name": "stdout",
     "output_type": "stream",
     "text": [
      "Enter a list of numbers:1 2 3 4 5\n",
      "Enter the number to add:10\n",
      "[2, 3, 4, 5, 10]\n"
     ]
    }
   ],
   "source": [
    "def next_in_line(mylist,num):\n",
    "    mylist.pop(0)\n",
    "    mylist.append(num)\n",
    "    return mylist\n",
    "\n",
    "mylist=list(map(int,input('Enter a list of numbers:').split()))\n",
    "num=int(input('Enter the number to add:'))\n",
    "print(next_in_line(mylist,num))    "
   ]
  },
  {
   "cell_type": "markdown",
   "id": "37d7afad",
   "metadata": {},
   "source": [
    "# 2.Create the function that takes a list of dictionaries and returns the sum of people&#39;s budgets."
   ]
  },
  {
   "cell_type": "code",
   "execution_count": 4,
   "id": "94552df1",
   "metadata": {},
   "outputs": [
    {
     "name": "stdout",
     "output_type": "stream",
     "text": [
      "Sum of Budgets: 115000\n"
     ]
    }
   ],
   "source": [
    "def get_budgets(this_dict):\n",
    "    sum=0\n",
    "    Dict_key=this_dict.keys()\n",
    "    for i in Dict_key:\n",
    "        sum+=this_dict[i]['budget']\n",
    "    return sum\n",
    "    \n",
    "    \n",
    "this_dict={1: {'name': 'John', 'age': '27', 'budget': 23000},\n",
    "          2: {'name': 'Marie', 'age': '22', 'budget': 12000},\n",
    "          3: {'name': 'Luna', 'age': '24', 'budget': 20000},\n",
    "          4: {'name': 'Peter', 'age': '29', 'budget': 60000}}\n",
    "Op=get_budgets(this_dict)\n",
    "print('Sum of Budgets:',Op)\n"
   ]
  },
  {
   "cell_type": "markdown",
   "id": "b994ff5b",
   "metadata": {},
   "source": [
    "# 3.Create a function that takes a string and returns a string with its letters in alphabetical order."
   ]
  },
  {
   "cell_type": "code",
   "execution_count": 8,
   "id": "1658d57e",
   "metadata": {},
   "outputs": [
    {
     "name": "stdout",
     "output_type": "stream",
     "text": [
      "Enter a string:hello\n",
      "ehllo\n"
     ]
    }
   ],
   "source": [
    "def alphabet_soup(mystring):\n",
    "    print(''.join(sorted(mystring)))\n",
    "mystring=input('Enter a string:')\n",
    "alphabet_soup(mystring)"
   ]
  },
  {
   "cell_type": "markdown",
   "id": "ba17a469",
   "metadata": {},
   "source": [
    "# 4.Create a function that accepts the principal p, the term in years t, the interest rate r, and the number of compounding periods per year n. The function returns the value at the end of term rounded to the nearest cent."
   ]
  },
  {
   "cell_type": "code",
   "execution_count": 10,
   "id": "70d4f33e",
   "metadata": {},
   "outputs": [
    {
     "name": "stdout",
     "output_type": "stream",
     "text": [
      "Enter the principal:10000\n",
      "Enter the term in years:10\n",
      "Enter the interest rate:0.06\n",
      "Enter the number of compounding periods per year:12\n",
      "10000.0\n"
     ]
    }
   ],
   "source": [
    "def compound_interest(p,t,r,n):\n",
    "    amount=float(p*pow((1+r//n),n*t))\n",
    "    print('Amount',amount)\n",
    "principal=int(input('Enter the principal:'))\n",
    "term=int(input('Enter the term in years:'))\n",
    "rate=float(input('Enter the interest rate:'))\n",
    "n=int(input('Enter the number of compounding periods per year:'))\n",
    "compound_interest(principal,term,rate,n)"
   ]
  },
  {
   "cell_type": "markdown",
   "id": "8f7885f0",
   "metadata": {},
   "source": [
    "# 5.Write a function that takes a list of elements and returns only the integers."
   ]
  },
  {
   "cell_type": "code",
   "execution_count": 15,
   "id": "40164a18",
   "metadata": {},
   "outputs": [
    {
     "name": "stdout",
     "output_type": "stream",
     "text": [
      "[1, 9, 25]\n"
     ]
    }
   ],
   "source": [
    "def return_only_integer(mylist):\n",
    "    newlist=[]\n",
    "    for i in mylist:\n",
    "        if type(i) is int:\n",
    "            newlist.append(i)\n",
    "    print(newlist)\n",
    "\n",
    "mylist=[1,'kol',9,'lop',25]\n",
    "return_only_integer(mylist)"
   ]
  }
 ],
 "metadata": {
  "kernelspec": {
   "display_name": "Python 3",
   "language": "python",
   "name": "python3"
  },
  "language_info": {
   "codemirror_mode": {
    "name": "ipython",
    "version": 3
   },
   "file_extension": ".py",
   "mimetype": "text/x-python",
   "name": "python",
   "nbconvert_exporter": "python",
   "pygments_lexer": "ipython3",
   "version": "3.8.8"
  }
 },
 "nbformat": 4,
 "nbformat_minor": 5
}
