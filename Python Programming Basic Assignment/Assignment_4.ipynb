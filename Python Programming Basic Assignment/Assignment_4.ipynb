{
 "cells": [
  {
   "cell_type": "markdown",
   "id": "eea87626",
   "metadata": {},
   "source": [
    "# 1.Write a Python Program to Find the Factorial of a Number?\n"
   ]
  },
  {
   "cell_type": "code",
   "execution_count": 4,
   "id": "8376d85e",
   "metadata": {},
   "outputs": [
    {
     "name": "stdout",
     "output_type": "stream",
     "text": [
      "120\n"
     ]
    }
   ],
   "source": [
    "def factorial(num):\n",
    "    for i in range(num-1,1,-1):\n",
    "        num=num*i\n",
    "    print(num)\n",
    "factorial(5)"
   ]
  },
  {
   "cell_type": "markdown",
   "id": "86c3fdfc",
   "metadata": {},
   "source": [
    "# 2.Write a Python Program to Display the multiplication Table?\n"
   ]
  },
  {
   "cell_type": "code",
   "execution_count": 12,
   "id": "89d37a02",
   "metadata": {},
   "outputs": [
    {
     "name": "stdout",
     "output_type": "stream",
     "text": [
      "6 X 1 = 6\n",
      "6 X 2 = 12\n",
      "6 X 3 = 18\n",
      "6 X 4 = 24\n",
      "6 X 5 = 30\n",
      "6 X 6 = 36\n",
      "6 X 7 = 42\n",
      "6 X 8 = 48\n",
      "6 X 9 = 54\n",
      "6 X 10 = 60\n"
     ]
    }
   ],
   "source": [
    "def multiplication_table(num):\n",
    "    for i in range(1,11):\n",
    "        print(num,'X',i,'=',num*i)\n",
    "multiplication_table(6)"
   ]
  },
  {
   "cell_type": "markdown",
   "id": "08a066c5",
   "metadata": {},
   "source": [
    "# 3.Write a Python Program to Print the Fibonacci sequence?\n"
   ]
  },
  {
   "cell_type": "code",
   "execution_count": 15,
   "id": "717f53d6",
   "metadata": {},
   "outputs": [
    {
     "name": "stdout",
     "output_type": "stream",
     "text": [
      "Fibonacci Sequence:\n",
      "0\n",
      "1\n",
      "1\n",
      "2\n",
      "3\n",
      "5\n"
     ]
    }
   ],
   "source": [
    "def fibonacci(num):\n",
    "    num1=0\n",
    "    num2=1\n",
    "    count=0\n",
    "    print('Fibonacci Sequence:')\n",
    "    while count < num:\n",
    "        print(num1)\n",
    "        temp=num1+num2\n",
    "        num1=num2\n",
    "        num2=temp\n",
    "        count+=1\n",
    "fibonacci(6)"
   ]
  },
  {
   "cell_type": "markdown",
   "id": "ee1bbeec",
   "metadata": {},
   "source": [
    "# 4.Write a Python Program to Check Armstrong Number?\n"
   ]
  },
  {
   "cell_type": "code",
   "execution_count": 8,
   "id": "718477b1",
   "metadata": {},
   "outputs": [
    {
     "name": "stdout",
     "output_type": "stream",
     "text": [
      "Armstrong Number\n"
     ]
    }
   ],
   "source": [
    "def armstrong(num):\n",
    "    temp=num\n",
    "    sum=0\n",
    "    while(temp!=0):\n",
    "        n=temp%10\n",
    "        temp=temp//10\n",
    "        sum=sum+n**3\n",
    "    if(sum==num):\n",
    "        print('Armstrong Number')\n",
    "    else:\n",
    "        print('Not an Armstrong Number')\n",
    "armstrong(371)"
   ]
  },
  {
   "cell_type": "markdown",
   "id": "7cd3ca91",
   "metadata": {},
   "source": [
    "# 5.Write a Python Program to Find Armstrong Number in an Interval?\n"
   ]
  },
  {
   "cell_type": "code",
   "execution_count": 11,
   "id": "9d0b0faa",
   "metadata": {},
   "outputs": [
    {
     "name": "stdout",
     "output_type": "stream",
     "text": [
      "Enter the Lower Interval:0\n",
      "Enter the Upper Interval:1000\n",
      "0\n",
      "1\n",
      "153\n",
      "370\n",
      "371\n",
      "407\n"
     ]
    }
   ],
   "source": [
    "def armstrong(num):\n",
    "    temp=num\n",
    "    sum=0\n",
    "    while(temp!=0):\n",
    "        n=temp%10\n",
    "        temp=temp//10\n",
    "        sum=sum+n**3\n",
    "    if(sum==num):\n",
    "        print(num)\n",
    "def armstrong_interval():\n",
    "    l=int(input('Enter the Lower Interval:'))\n",
    "    u=int(input('Enter the Upper Interval:'))\n",
    "    for i in range(l,u+1):\n",
    "        armstrong(i)\n",
    "\n",
    "armstrong_interval()\n",
    "    "
   ]
  },
  {
   "cell_type": "markdown",
   "id": "08d97584",
   "metadata": {},
   "source": [
    "# 6.Write a Python Program to Find the Sum of Natural Numbers?\n"
   ]
  },
  {
   "cell_type": "code",
   "execution_count": 12,
   "id": "bcaa5790",
   "metadata": {},
   "outputs": [
    {
     "name": "stdout",
     "output_type": "stream",
     "text": [
      "55\n"
     ]
    }
   ],
   "source": [
    "def sum(num):\n",
    "    print(num*(num+1)//2)\n",
    "sum(10)"
   ]
  },
  {
   "cell_type": "code",
   "execution_count": null,
   "id": "b8b29391",
   "metadata": {},
   "outputs": [],
   "source": []
  }
 ],
 "metadata": {
  "kernelspec": {
   "display_name": "Python 3",
   "language": "python",
   "name": "python3"
  },
  "language_info": {
   "codemirror_mode": {
    "name": "ipython",
    "version": 3
   },
   "file_extension": ".py",
   "mimetype": "text/x-python",
   "name": "python",
   "nbconvert_exporter": "python",
   "pygments_lexer": "ipython3",
   "version": "3.8.8"
  }
 },
 "nbformat": 4,
 "nbformat_minor": 5
}
