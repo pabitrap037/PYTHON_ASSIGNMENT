{
 "cells": [
  {
   "cell_type": "markdown",
   "id": "b5ab58ab",
   "metadata": {},
   "source": [
    "# 1.Create a function that takes a string and returns a string in which each character is repeated once."
   ]
  },
  {
   "cell_type": "code",
   "execution_count": 6,
   "id": "34880ca6",
   "metadata": {},
   "outputs": [
    {
     "name": "stdout",
     "output_type": "stream",
     "text": [
      "Enter a string:kdnf\n",
      "kkddnnff\n"
     ]
    }
   ],
   "source": [
    "def double_char(mystring):\n",
    "    newstring=''\n",
    "    for i in mystring:\n",
    "        newstring=newstring+i+i\n",
    "    print(newstring)\n",
    "mystring=input('Enter a string:')\n",
    "double_char(mystring)"
   ]
  },
  {
   "cell_type": "markdown",
   "id": "d27dfb87",
   "metadata": {},
   "source": [
    "# 2.Create a function that reverses a boolean value and returns the string &quot;boolean expected&quot; if another variable type is given."
   ]
  },
  {
   "cell_type": "code",
   "execution_count": 11,
   "id": "c2b954a1",
   "metadata": {},
   "outputs": [
    {
     "name": "stdout",
     "output_type": "stream",
     "text": [
      "Enter True or False:False\n",
      "False\n"
     ]
    }
   ],
   "source": [
    "def reverse(bool_value):\n",
    "    if bool_value == True:\n",
    "        return False\n",
    "    else:\n",
    "        return True\n",
    "bool_value=bool(input('Enter True or False:'))\n",
    "print(reverse(bool_value))"
   ]
  },
  {
   "cell_type": "markdown",
   "id": "3440ab34",
   "metadata": {},
   "source": [
    "# 3.Create a function that returns the thickness (in meters) of a piece of paper after folding it n number of times. The paper starts off with a thickness of 0.5mm."
   ]
  },
  {
   "cell_type": "code",
   "execution_count": 21,
   "id": "d0b72359",
   "metadata": {},
   "outputs": [
    {
     "name": "stdout",
     "output_type": "stream",
     "text": [
      "Enter the no of times:4\n",
      "Thickness in meters: 0.004 mm\n"
     ]
    }
   ],
   "source": [
    "def num_layers(n):\n",
    "    res=(0.0005*n*2)\n",
    "    print('Thickness in meters:',res,'mm')\n",
    "n=int(input('Enter the no of times:'))\n",
    "num_layers(n)"
   ]
  },
  {
   "cell_type": "markdown",
   "id": "0e4745cf",
   "metadata": {},
   "source": [
    "# 4.Create a function that takes a single string as argument and returns an ordered list containing the indices of all capital letters in the string."
   ]
  },
  {
   "cell_type": "code",
   "execution_count": 3,
   "id": "36d6d859",
   "metadata": {},
   "outputs": [
    {
     "name": "stdout",
     "output_type": "stream",
     "text": [
      "Enter a String:DaTaSciEnCE\n",
      "[0, 2, 4, 7, 9, 10]\n"
     ]
    }
   ],
   "source": [
    "def index_of_caps(mystring):\n",
    "    newstr=[]\n",
    "    for i in range(len(mystring)):\n",
    "        if ord(mystring[i]) >=65 and ord(mystring[i]) <=90:\n",
    "            newstr.append(i)\n",
    "    print(newstr)\n",
    "mystring=input('Enter a String:')\n",
    "index_of_caps(mystring)\n",
    "            "
   ]
  },
  {
   "cell_type": "markdown",
   "id": "46c1ade3",
   "metadata": {},
   "source": [
    "# 5.Using list comprehensions, create a function that finds all even numbers from 1 to the given number."
   ]
  },
  {
   "cell_type": "code",
   "execution_count": 2,
   "id": "d56ae18d",
   "metadata": {},
   "outputs": [
    {
     "name": "stdout",
     "output_type": "stream",
     "text": [
      "Enter a Number:8\n",
      "[2, 4, 6, 8]\n"
     ]
    }
   ],
   "source": [
    "def find_even_nums(n):\n",
    "    mylist=[]\n",
    "    for i in range(1,n+1):\n",
    "        if i % 2 ==0:\n",
    "            mylist.append(i)\n",
    "    print(mylist)\n",
    "n=int(input('Enter a Number:'))\n",
    "find_even_nums(n)"
   ]
  },
  {
   "cell_type": "code",
   "execution_count": null,
   "id": "7b06e9d6",
   "metadata": {},
   "outputs": [],
   "source": []
  }
 ],
 "metadata": {
  "kernelspec": {
   "display_name": "Python 3",
   "language": "python",
   "name": "python3"
  },
  "language_info": {
   "codemirror_mode": {
    "name": "ipython",
    "version": 3
   },
   "file_extension": ".py",
   "mimetype": "text/x-python",
   "name": "python",
   "nbconvert_exporter": "python",
   "pygments_lexer": "ipython3",
   "version": "3.8.8"
  }
 },
 "nbformat": 4,
 "nbformat_minor": 5
}
