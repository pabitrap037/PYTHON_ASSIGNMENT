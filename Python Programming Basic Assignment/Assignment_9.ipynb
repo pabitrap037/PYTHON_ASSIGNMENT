{
 "cells": [
  {
   "cell_type": "markdown",
   "id": "b8c55db9",
   "metadata": {},
   "source": [
    "# 1.Write a Python program to check if the given number is a Disarium Number?"
   ]
  },
  {
   "cell_type": "code",
   "execution_count": 9,
   "id": "fde276fe",
   "metadata": {},
   "outputs": [
    {
     "name": "stdout",
     "output_type": "stream",
     "text": [
      "Enter a Number:123\n",
      "Not a Disarium Number\n"
     ]
    }
   ],
   "source": [
    "def disarium_check(num):\n",
    "    count=len(str(num))\n",
    "    temp=num\n",
    "    sum1=0\n",
    "    while(temp!=0):\n",
    "        rem=temp%10\n",
    "        sum1+=(rem**count)\n",
    "        count=count-1\n",
    "        temp=temp//10\n",
    "    if sum1==num:\n",
    "        print('Is a Disarium Number')\n",
    "    else:\n",
    "        print('Not a Disarium Number')\n",
    "num=int(input('Enter a Number:'))\n",
    "disarium_check(num)\n",
    "        "
   ]
  },
  {
   "cell_type": "markdown",
   "id": "d1ada3c1",
   "metadata": {},
   "source": [
    "# 2.Write a Python program to print all disarium numbers between 1 to 100?"
   ]
  },
  {
   "cell_type": "code",
   "execution_count": 13,
   "id": "7962b0db",
   "metadata": {},
   "outputs": [
    {
     "name": "stdout",
     "output_type": "stream",
     "text": [
      "1 2 3 4 5 6 7 8 9 89 "
     ]
    }
   ],
   "source": [
    "def disarium_check(num):\n",
    "    count=len(str(num))\n",
    "    temp=num\n",
    "    sum1=0\n",
    "    while(temp!=0):\n",
    "        rem=temp%10\n",
    "        sum1+=(rem**count)\n",
    "        count=count-1\n",
    "        temp=temp//10\n",
    "    if sum1==num:\n",
    "        print(num,end=' ')\n",
    "for i in range(1,100):\n",
    "    disarium_check(i)"
   ]
  },
  {
   "cell_type": "markdown",
   "id": "35f627f0",
   "metadata": {},
   "source": [
    "# 3.Write a Python program to check if the given number is Happy Number?"
   ]
  },
  {
   "cell_type": "code",
   "execution_count": 14,
   "id": "d4eff052",
   "metadata": {},
   "outputs": [
    {
     "name": "stdout",
     "output_type": "stream",
     "text": [
      "Enter a Number:7\n",
      "Happy number\n"
     ]
    }
   ],
   "source": [
    "def check_happy(n):    \n",
    "    rem = 0\n",
    "    sq_sum = 0;    \n",
    "    while(n > 0):    \n",
    "        rem = n%10    \n",
    "        sq_sum += rem**2  \n",
    "        n //= 10    \n",
    "    return sq_sum \n",
    "        \n",
    "n = int(input('Enter a Number:'))    \n",
    "result = n;    \n",
    "     \n",
    "while(result != 1 and result != 4):    \n",
    "    result = check_happy(result)    \n",
    "     \n",
    "if(result == 1):    \n",
    "    print(\"Happy number\")  \n",
    "elif(result == 4):    \n",
    "    print(\"Not a happy number\")  "
   ]
  },
  {
   "cell_type": "markdown",
   "id": "5645b757",
   "metadata": {},
   "source": [
    "# 4.Write a Python program to print all happy numbers between 1 and 100?"
   ]
  },
  {
   "cell_type": "code",
   "execution_count": 23,
   "id": "d5a23267",
   "metadata": {},
   "outputs": [
    {
     "name": "stdout",
     "output_type": "stream",
     "text": [
      "Happy Numbers between 1 and 100:\n",
      "1 7 10 13 19 23 28 31 32 44 49 68 70 79 82 86 91 94 97 100 "
     ]
    }
   ],
   "source": [
    "def check_happy(n):    \n",
    "    rem = 0\n",
    "    sq_sum = 0;    \n",
    "    while(n > 0):    \n",
    "        rem = n%10    \n",
    "        sq_sum += rem**2  \n",
    "        n //= 10    \n",
    "    return sq_sum \n",
    "        \n",
    "print('Happy Numbers between 1 and 100:')\n",
    "for i in range(1,101):\n",
    "    result=i    \n",
    "    while(result != 1 and result != 4):    \n",
    "        result = check_happy(result)    \n",
    "    if(result == 1):    \n",
    "        print(i,end=' ')  "
   ]
  },
  {
   "cell_type": "markdown",
   "id": "92ae1851",
   "metadata": {},
   "source": [
    "# 5.Write a Python program to determine whether the given number is a Harshad Number?"
   ]
  },
  {
   "cell_type": "code",
   "execution_count": 24,
   "id": "1001981a",
   "metadata": {},
   "outputs": [
    {
     "name": "stdout",
     "output_type": "stream",
     "text": [
      "Enter a Number:13\n",
      "Not an Harshad Number\n"
     ]
    }
   ],
   "source": [
    "def check_harshad(num):\n",
    "    temp = num\n",
    "    hr_sum = 0\n",
    "    while(num>0):\n",
    "        hr_sum+ = num % 10\n",
    "        num = num//10\n",
    "    if temp % hr_sum == 0:\n",
    "        print('Is an Harshad Number')\n",
    "    else:\n",
    "        print('Not an Harshad Number')\n",
    "num=int(input('Enter a Number:'))\n",
    "check_harshad(num)"
   ]
  },
  {
   "cell_type": "markdown",
   "id": "303169fe",
   "metadata": {},
   "source": [
    "# 6.Write a Python program to print all pronic numbers between 1 and 100?"
   ]
  },
  {
   "cell_type": "code",
   "execution_count": 25,
   "id": "01f9303c",
   "metadata": {},
   "outputs": [
    {
     "name": "stdout",
     "output_type": "stream",
     "text": [
      "Pronic Numbers between 1 and 100\n",
      "2 6 12 20 30 42 56 72 90 "
     ]
    }
   ],
   "source": [
    "def pronic_number(num):\n",
    "    flag=False\n",
    "    for i in range(1,num+1):\n",
    "        if (i*(i+1)) == num:\n",
    "            flag = True\n",
    "            break\n",
    "    return flag\n",
    "print('Pronic Numbers between 1 and 100')\n",
    "for i in range(1,101):\n",
    "    if(pronic_number(i)):\n",
    "        print(i,end=' ')"
   ]
  },
  {
   "cell_type": "code",
   "execution_count": null,
   "id": "fdae4f71",
   "metadata": {},
   "outputs": [],
   "source": []
  }
 ],
 "metadata": {
  "kernelspec": {
   "display_name": "Python 3",
   "language": "python",
   "name": "python3"
  },
  "language_info": {
   "codemirror_mode": {
    "name": "ipython",
    "version": 3
   },
   "file_extension": ".py",
   "mimetype": "text/x-python",
   "name": "python",
   "nbconvert_exporter": "python",
   "pygments_lexer": "ipython3",
   "version": "3.8.8"
  }
 },
 "nbformat": 4,
 "nbformat_minor": 5
}
