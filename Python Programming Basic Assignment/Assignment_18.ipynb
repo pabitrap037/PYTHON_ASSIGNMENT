{
 "cells": [
  {
   "cell_type": "markdown",
   "id": "254a9eb8",
   "metadata": {},
   "source": [
    "# 1.Create a function that takes a list of non-negative integers and strings and return a new list without the strings."
   ]
  },
  {
   "cell_type": "code",
   "execution_count": 1,
   "id": "f4d99ae1",
   "metadata": {},
   "outputs": [
    {
     "name": "stdout",
     "output_type": "stream",
     "text": [
      "[1, 2, 3]\n"
     ]
    }
   ],
   "source": [
    "def filter_list(mylist):\n",
    "    newlist=[]\n",
    "    for i in mylist:\n",
    "        if type(i) == int:\n",
    "            newlist.append(i)\n",
    "    print(newlist)\n",
    "mylist=[1,2,'abc','jkl',3]\n",
    "filter_list(mylist)"
   ]
  },
  {
   "cell_type": "markdown",
   "id": "ade3bef2",
   "metadata": {},
   "source": [
    "# 2.The &quot;Reverser&quot; takes a string as input and returns that string in reverse order, with the opposite case."
   ]
  },
  {
   "cell_type": "code",
   "execution_count": 4,
   "id": "a85cf351",
   "metadata": {},
   "outputs": [
    {
     "name": "stdout",
     "output_type": "stream",
     "text": [
      "Enter a String:Hello WorLD\n",
      "dlROw OLLEh\n"
     ]
    }
   ],
   "source": [
    "def reverse(mystring):\n",
    "    newstring=mystring[::-1]\n",
    "    print(newstring.swapcase())\n",
    "mystring=input('Enter a String:')\n",
    "reverse(mystring)"
   ]
  },
  {
   "cell_type": "markdown",
   "id": "c48668e3",
   "metadata": {},
   "source": [
    "# 3.You can assign variables from lists like this:\n",
    "    lst = [1, 2, 3, 4, 5, 6]\n",
    "    first = lst[0]\n",
    "    middle = lst[1:-1]\n",
    "    last = lst[-1]\n",
    "    print(first) ➞ outputs 1\n",
    "    print(middle) ➞ outputs [2, 3, 4, 5]\n",
    "    print(last) ➞ outputs 6\n",
    "    With Python 3, you can assign variables from lists in a much more succinct way. Create variables first, middle and last from the given list using destructuring assignment\n",
    "    (check the Resources tab for some examples), where:\n",
    "    first ➞ 1\n",
    "    middle ➞ [2, 3, 4, 5]\n",
    "    last ➞ 6\n",
    "    Your task is to unpack the list writeyourcodehere into three variables, being first, middle, and last, with middle being everything in between the first and last element. Then print all three variables."
   ]
  },
  {
   "cell_type": "code",
   "execution_count": 1,
   "id": "6cc74e17",
   "metadata": {},
   "outputs": [
    {
     "name": "stdout",
     "output_type": "stream",
     "text": [
      "first : 1\n",
      "middle : [2, 3, 4, 5]\n",
      "last : 6\n"
     ]
    }
   ],
   "source": [
    "first, *middle, last = [1,2,3,4,5,6]\n",
    "print(f'first : {first}')\n",
    "print(f'middle : {middle}')\n",
    "print(f'last : {last}')"
   ]
  },
  {
   "cell_type": "markdown",
   "id": "d3d58bb7",
   "metadata": {},
   "source": [
    "# 4.Write a function that calculates the factorial of a number recursively."
   ]
  },
  {
   "cell_type": "code",
   "execution_count": 8,
   "id": "0baa9dff",
   "metadata": {},
   "outputs": [
    {
     "name": "stdout",
     "output_type": "stream",
     "text": [
      "Enter a number:5\n",
      "120\n"
     ]
    }
   ],
   "source": [
    "def recursion_factorial(n):\n",
    "    if n==1:\n",
    "        return n\n",
    "    else:\n",
    "        return n*factorial(n-1)\n",
    "    \n",
    "n=int(input('Enter a number:'))\n",
    "print(recursion_factorial(n))"
   ]
  },
  {
   "cell_type": "markdown",
   "id": "7baca664",
   "metadata": {},
   "source": [
    "# 5.Write a function that moves all elements of one type to the end of the list."
   ]
  },
  {
   "cell_type": "code",
   "execution_count": 13,
   "id": "f06f5400",
   "metadata": {},
   "outputs": [
    {
     "name": "stdout",
     "output_type": "stream",
     "text": [
      "Enter a List:1 2 2 3 4\n",
      "Enter a element to move to end:2\n",
      "[2, 3, 4, 2, 1]\n",
      "None\n"
     ]
    }
   ],
   "source": [
    "def move_to_end(mylist,ele):\n",
    "    n=mylist.count(ele)\n",
    "    while ele!=0:\n",
    "        mylist.append(mylist.pop(mylist.index(ele)))\n",
    "        ele=ele-1\n",
    "    print(mylist)\n",
    "    print(mylist.sort(key=ele.__eq__))\n",
    "mylist=list(map(int,input('Enter a List:').split()))\n",
    "ele=int(input('Enter a element to move to end:'))\n",
    "move_to_end(mylist,ele)"
   ]
  }
 ],
 "metadata": {
  "kernelspec": {
   "display_name": "Python 3",
   "language": "python",
   "name": "python3"
  },
  "language_info": {
   "codemirror_mode": {
    "name": "ipython",
    "version": 3
   },
   "file_extension": ".py",
   "mimetype": "text/x-python",
   "name": "python",
   "nbconvert_exporter": "python",
   "pygments_lexer": "ipython3",
   "version": "3.8.8"
  }
 },
 "nbformat": 4,
 "nbformat_minor": 5
}
