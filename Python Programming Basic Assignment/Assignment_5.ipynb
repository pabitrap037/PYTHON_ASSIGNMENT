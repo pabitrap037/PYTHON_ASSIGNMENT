{
 "cells": [
  {
   "cell_type": "markdown",
   "id": "4c7b2965",
   "metadata": {},
   "source": [
    "# 1.Write a Python Program to Find LCM?"
   ]
  },
  {
   "cell_type": "code",
   "execution_count": 9,
   "id": "b0de705a",
   "metadata": {},
   "outputs": [
    {
     "name": "stdout",
     "output_type": "stream",
     "text": [
      "LCM is: 2\n"
     ]
    }
   ],
   "source": [
    "def LCM(num1,num2):\n",
    "    if num1>num2:\n",
    "        greater=num1\n",
    "    else:\n",
    "        greater=num2\n",
    "    while(True):  \n",
    "        if((greater % num1 == 0) and (greater % num2 == 0)):  \n",
    "            ans = greater  \n",
    "            break  \n",
    "        greater += 1  \n",
    "    print('LCM is:',ans)  \n",
    "LCM(1,2)"
   ]
  },
  {
   "cell_type": "markdown",
   "id": "f64338e0",
   "metadata": {},
   "source": [
    "# 2.Write a Python Program to Find HCF?"
   ]
  },
  {
   "cell_type": "code",
   "execution_count": 26,
   "id": "b61f1893",
   "metadata": {},
   "outputs": [
    {
     "name": "stdout",
     "output_type": "stream",
     "text": [
      "Hcf is: 6\n"
     ]
    }
   ],
   "source": [
    "def HCF(num1,num2):\n",
    "    if num1>num2:\n",
    "        smaller=num2\n",
    "    else:\n",
    "        smaller=num1\n",
    "    for i in range(1,smaller+1):\n",
    "        if((num1%i==0) and (num2%i==0)):\n",
    "            ans=i\n",
    "    print('Hcf is:',ans)\n",
    "HCF(6,18)\n",
    "        "
   ]
  },
  {
   "cell_type": "markdown",
   "id": "326fd8c8",
   "metadata": {},
   "source": [
    "# 3.Write a Python Program to Convert Decimal to Binary, Octal and Hexadecimal?"
   ]
  },
  {
   "cell_type": "code",
   "execution_count": 30,
   "id": "1f50e056",
   "metadata": {},
   "outputs": [
    {
     "name": "stdout",
     "output_type": "stream",
     "text": [
      "Binary: 101\n",
      "Octal: 5\n",
      "Hex: 5\n"
     ]
    }
   ],
   "source": [
    "def Convert(num):\n",
    "    print('Binary:',bin(num).replace('0b',''))\n",
    "    print('Octal:',oct(num).replace('0o',''))\n",
    "    print('Hex:',hex(num).replace('0x',''))\n",
    "Convert(5)"
   ]
  },
  {
   "cell_type": "markdown",
   "id": "98bfdc74",
   "metadata": {},
   "source": [
    "# 4.Write a Python Program To Find ASCII value of a character?"
   ]
  },
  {
   "cell_type": "code",
   "execution_count": 1,
   "id": "0db8b138",
   "metadata": {},
   "outputs": [
    {
     "name": "stdout",
     "output_type": "stream",
     "text": [
      "Enter a character:m\n",
      "ASCII Value: 109\n"
     ]
    }
   ],
   "source": [
    "def ascii_value():\n",
    "    cr=input('Enter a character:')\n",
    "    print('ASCII Value:',ord(cr))\n",
    "ascii_value()"
   ]
  },
  {
   "cell_type": "markdown",
   "id": "88331f49",
   "metadata": {},
   "source": [
    "# 5.Write a Python Program to Make a Simple Calculator with 4 basic mathematical operations?"
   ]
  },
  {
   "cell_type": "code",
   "execution_count": 2,
   "id": "73cbaff6",
   "metadata": {},
   "outputs": [
    {
     "name": "stdout",
     "output_type": "stream",
     "text": [
      "Select Operation\n",
      "1.Addition \n",
      "2.Subtraction \n",
      "3.Division \n",
      "4.Multiplication\n",
      "4\n",
      "Enter First umber:4\n",
      "Enter Second Number:6\n",
      "4 * 6 = 24\n"
     ]
    }
   ],
   "source": [
    "def calculator():\n",
    "    opr=int(input(\"Select Operation\\n1.Addition \\n2.Subtraction \\n3.Division \\n4.Multiplication\\n\"))\n",
    "    n1=int(input('Enter First umber:'))\n",
    "    n2=int(input('Enter Second Number:'))\n",
    "    if opr==1:\n",
    "        print(n1,'+',n2,'=',n1+n2)\n",
    "    elif opr==2:\n",
    "        print(n1,'-',n2,'=',n1-n2)\n",
    "    elif opr==3:\n",
    "        print(n1,'/',n2,'=',n1/n2)\n",
    "    elif opr==4:\n",
    "        print(n1,'*',n2,'=',n1*n2)\n",
    "    else:\n",
    "        print('Invalid Input')\n",
    "calculator()"
   ]
  },
  {
   "cell_type": "code",
   "execution_count": null,
   "id": "005c2203",
   "metadata": {},
   "outputs": [],
   "source": []
  }
 ],
 "metadata": {
  "kernelspec": {
   "display_name": "Python 3",
   "language": "python",
   "name": "python3"
  },
  "language_info": {
   "codemirror_mode": {
    "name": "ipython",
    "version": 3
   },
   "file_extension": ".py",
   "mimetype": "text/x-python",
   "name": "python",
   "nbconvert_exporter": "python",
   "pygments_lexer": "ipython3",
   "version": "3.8.8"
  }
 },
 "nbformat": 4,
 "nbformat_minor": 5
}
