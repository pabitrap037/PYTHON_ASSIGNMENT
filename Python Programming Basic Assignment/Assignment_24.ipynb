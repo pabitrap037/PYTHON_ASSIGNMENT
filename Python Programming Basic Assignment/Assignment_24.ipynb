{
 "cells": [
  {
   "cell_type": "markdown",
   "id": "61fe0f67",
   "metadata": {},
   "source": [
    "# 1. Create a function that takes an integer and returns a list from 1 to the given number, where: 1. If the number can be divided evenly by 4, amplify it by 10 (i.e. return 10 times the number). 2. If the number cannot be divided evenly by 4, simply return the number."
   ]
  },
  {
   "cell_type": "code",
   "execution_count": 19,
   "id": "fa9499ad",
   "metadata": {},
   "outputs": [
    {
     "name": "stdout",
     "output_type": "stream",
     "text": [
      "Enter a Number:20\n",
      "1 2 3 40 5 6 7 80 9 10 11 120 13 14 15 160 17 18 19 200 "
     ]
    }
   ],
   "source": [
    "def amplify(n):\n",
    "    if n>1:\n",
    "        for i in range(1,n+1):\n",
    "            if i % 4==0:\n",
    "                print(i*10,end=' ')\n",
    "            else:\n",
    "                print(i,end=' ')\n",
    "    else:\n",
    "        print('Invalid Input')\n",
    "n=int(input('Enter a Number:'))\n",
    "amplify(n)"
   ]
  },
  {
   "cell_type": "markdown",
   "id": "5a49c72d",
   "metadata": {},
   "source": [
    "# 2.Create a function that takes a list of numbers and return the number that&#39;s unique."
   ]
  },
  {
   "cell_type": "code",
   "execution_count": 15,
   "id": "1c2601f1",
   "metadata": {},
   "outputs": [
    {
     "name": "stdout",
     "output_type": "stream",
     "text": [
      "Enter a list of numbers:0 0 0 0.77 0\n",
      "0.77\n"
     ]
    }
   ],
   "source": [
    "def unique_element(my_list):\n",
    "    for i in my_list:\n",
    "        if my_list.count(i)==1:\n",
    "            print(i)\n",
    "my_list=list(map(float,input('Enter a list of numbers:').split()))\n",
    "unique_element(my_list)"
   ]
  },
  {
   "cell_type": "markdown",
   "id": "abad7be1",
   "metadata": {},
   "source": [
    "# 3.Your task is to create a Circle constructor that creates a circle with a radius provided by an argument. The circles constructed must have two getters getArea() (PIr^2) and getPerimeter() (2PI*r) which give both respective areas and perimeter (circumference).For help with this class, I have provided you with a Rectangle constructor which you can use as a base example."
   ]
  },
  {
   "cell_type": "code",
   "execution_count": 33,
   "id": "27253102",
   "metadata": {},
   "outputs": [
    {
     "name": "stdout",
     "output_type": "stream",
     "text": [
      "Enter the radius:11\n",
      "Area is: 380\n",
      "Perimeter is: 69\n"
     ]
    }
   ],
   "source": [
    "class Circle():\n",
    "    def __init__(self, r):\n",
    "        self.radius = r\n",
    "\n",
    "    def getArea(self):\n",
    "        return self.radius**2*3.14\n",
    "    \n",
    "    def getPerimeter(self):\n",
    "        return 2*self.radius*3.14\n",
    "r=float(input('Enter the radius:'))\n",
    "circy=Circle(r)\n",
    "print('Area is:',round(circy.getArea()))\n",
    "print('Perimeter is:',round(circy.getPerimeter()))\n",
    "\n",
    "    "
   ]
  },
  {
   "cell_type": "markdown",
   "id": "003d6be3",
   "metadata": {},
   "source": [
    "# 4.Create a function that takes a list of strings and return a list, sorted from shortest to longest."
   ]
  },
  {
   "cell_type": "code",
   "execution_count": 29,
   "id": "6d2f73ce",
   "metadata": {},
   "outputs": [
    {
     "name": "stdout",
     "output_type": "stream",
     "text": [
      "Enter a List of Strings:datascience is a very good course\n",
      "['a', 'is', 'very', 'good', 'course', 'datascience']\n"
     ]
    }
   ],
   "source": [
    "def sort_by_length(my_list):\n",
    "    my_list2=sorted(my_list,key=len)\n",
    "    print(my_list2)\n",
    "my_list=list(map(str,input('Enter a List of Strings:').split()))\n",
    "sort_by_length(my_list)"
   ]
  },
  {
   "cell_type": "markdown",
   "id": "90c3f5bc",
   "metadata": {},
   "source": [
    "# 5.Create a function that validates whether three given integers form a Pythagorean triplet. The sum of the squares of the two smallest integers must equal the square of the largest number tobe validated."
   ]
  },
  {
   "cell_type": "code",
   "execution_count": 28,
   "id": "9455ee19",
   "metadata": {},
   "outputs": [
    {
     "name": "stdout",
     "output_type": "stream",
     "text": [
      "Enter three numbers:13 5 12\n",
      "Its a pythagorean triplet\n"
     ]
    }
   ],
   "source": [
    "def pythagorean_triplet(my_list):\n",
    "    my_list.sort()\n",
    "    if pow(my_list[0],2)+pow(my_list[1],2) == pow(my_list[2],2):\n",
    "        print('Its a pythagorean triplet')\n",
    "    else:\n",
    "        print('Its not a pythagorean triplet')\n",
    "my_list=list(map(int,input('Enter three numbers:').split()))\n",
    "pythagorean_triplet(my_list)"
   ]
  },
  {
   "cell_type": "code",
   "execution_count": null,
   "id": "397a5bd8",
   "metadata": {},
   "outputs": [],
   "source": []
  }
 ],
 "metadata": {
  "kernelspec": {
   "display_name": "Python 3",
   "language": "python",
   "name": "python3"
  },
  "language_info": {
   "codemirror_mode": {
    "name": "ipython",
    "version": 3
   },
   "file_extension": ".py",
   "mimetype": "text/x-python",
   "name": "python",
   "nbconvert_exporter": "python",
   "pygments_lexer": "ipython3",
   "version": "3.8.8"
  }
 },
 "nbformat": 4,
 "nbformat_minor": 5
}
