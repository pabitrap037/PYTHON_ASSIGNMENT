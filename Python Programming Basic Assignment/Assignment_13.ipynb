{
 "cells": [
  {
   "cell_type": "markdown",
   "id": "7a5917c8",
   "metadata": {},
   "source": [
    "# 1.Write a program that calculates and prints the value according to the given formula:\n",
    "Q = Square root of [(2 * C * D)/H]\n",
    "Following are the fixed values of C and H:\n",
    "C is 50. H is 30.\n",
    "D is the variable whose values should be input to your program in a comma-separated\n",
    "sequence."
   ]
  },
  {
   "cell_type": "code",
   "execution_count": 14,
   "id": "d204d0c1",
   "metadata": {},
   "outputs": [
    {
     "name": "stdout",
     "output_type": "stream",
     "text": [
      "Enter the D values:100,150,180\n",
      "Q Values: 18,22,24,"
     ]
    }
   ],
   "source": [
    "import math\n",
    "def calculate(list_D):\n",
    "    C=50\n",
    "    H=30\n",
    "    print('Q Values:',end=' z')\n",
    "    for i in list_D:\n",
    "        Q=math.sqrt(2*C*i/H)\n",
    "        print('{}'.format(round(Q)),end=',')\n",
    "list_D=list(map(int,input('Enter the D values:').split(',')))\n",
    "calculate(list_D)"
   ]
  },
  {
   "cell_type": "markdown",
   "id": "f57a5564",
   "metadata": {},
   "source": [
    "# 2.Write a program which takes 2 digits, X,Y as input and generates a 2-dimensional array. The element value in the i-th row and j-th column of the array should be i*j.\n",
    "Note: i=0,1.., X-1; j=0,1,¡Y-1."
   ]
  },
  {
   "cell_type": "code",
   "execution_count": 31,
   "id": "b4f43aff",
   "metadata": {},
   "outputs": [
    {
     "name": "stdout",
     "output_type": "stream",
     "text": [
      "Enter no of rows:3\n",
      "Enter no of columns:5\n",
      "[[0, 0, 0, 0, 0], [0, 1, 2, 3, 4], [0, 2, 4, 6, 8]]\n"
     ]
    }
   ],
   "source": [
    "def gen_array():\n",
    "    rows=int(input('Enter no of rows:'))\n",
    "    cols=int(input('Enter no of columns:'))\n",
    "    arr2=[]\n",
    "    for i in range(rows):\n",
    "        arr1=[]\n",
    "        for j in range(cols):\n",
    "            arr1.append(i*j)\n",
    "        arr2.append(arr1)\n",
    "            \n",
    "        \n",
    "    print(arr2)\n",
    "gen_array()"
   ]
  },
  {
   "cell_type": "markdown",
   "id": "bd7b6d2d",
   "metadata": {},
   "source": [
    "# 3.Write a program that accepts a comma separated sequence of words as input and prints the words in a comma-separated sequence after sorting them alphabetically."
   ]
  },
  {
   "cell_type": "code",
   "execution_count": 67,
   "id": "ebdd92bb",
   "metadata": {},
   "outputs": [
    {
     "name": "stdout",
     "output_type": "stream",
     "text": [
      "Enter a String with comma separaated sequence:without,hello,bag,world\n",
      "bag,hello,without,world\n"
     ]
    }
   ],
   "source": [
    "def words_sort(string):\n",
    "    string.sort()\n",
    "    print((',').join(string))\n",
    "string=input('Enter a String with comma separated sequence:').split(',')\n",
    "words_sort(string)"
   ]
  },
  {
   "cell_type": "markdown",
   "id": "9eadca31",
   "metadata": {},
   "source": [
    "# 4.Write a program that accepts a sequence of whitespace separated words as input and prints the words after removing all duplicate words and sorting them alphanumerically."
   ]
  },
  {
   "cell_type": "code",
   "execution_count": 73,
   "id": "962e9350",
   "metadata": {},
   "outputs": [
    {
     "name": "stdout",
     "output_type": "stream",
     "text": [
      "Enter a String:hello world and practice makes perfect and hello world again\n",
      "again and hello makes perfect practice world\n"
     ]
    }
   ],
   "source": [
    "def remove_duplicate_words(string):\n",
    "    list_str=string.split()\n",
    "    duplicate=[]\n",
    "    for word in list_str:\n",
    "        if word not in duplicate:\n",
    "            duplicate.append(word)\n",
    "    duplicate.sort()\n",
    "    print(' '.join(duplicate))\n",
    "string=input('Enter a String:')\n",
    "remove_duplicate_words(string)"
   ]
  },
  {
   "cell_type": "markdown",
   "id": "ff1b9b4f",
   "metadata": {},
   "source": [
    "# 5.Write a program that accepts a sentence and calculate the number of letters and digits."
   ]
  },
  {
   "cell_type": "code",
   "execution_count": 40,
   "id": "dec742a0",
   "metadata": {},
   "outputs": [
    {
     "name": "stdout",
     "output_type": "stream",
     "text": [
      "Input a stringdatascience@1234\n",
      "Letters: 11\n",
      "Digits: 4\n"
     ]
    }
   ],
   "source": [
    "def count_letters_digits(string):\n",
    "    d=l=0\n",
    "    for char in string:\n",
    "        if char.isdigit():\n",
    "            d=d+1\n",
    "        elif char.isalpha():\n",
    "            l=l+1\n",
    "        else:\n",
    "            pass\n",
    "    print(\"Letters:\", l)\n",
    "    print(\"Digits:\", d)\n",
    "string = input(\"Input a string\")\n",
    "count_letters_digits(string)"
   ]
  },
  {
   "cell_type": "markdown",
   "id": "6d6a67b7",
   "metadata": {},
   "source": [
    "# 6.A website requires the users to input username and password to register. Write a program to check the validity of password input by users."
   ]
  },
  {
   "cell_type": "code",
   "execution_count": 64,
   "id": "a59d0e54",
   "metadata": {},
   "outputs": [
    {
     "name": "stdout",
     "output_type": "stream",
     "text": [
      "Enter the Password:jhgf7\n",
      "Invalid Password\n"
     ]
    }
   ],
   "source": [
    "def check_website(pwd):\n",
    "    a=A=d=s=0\n",
    "    my_set={'$','#','@'}\n",
    "    for i in range(len(pwd)):\n",
    "        if len(pwd[i]) >=6 and len(pwd[i]) <=12:\n",
    "            for char in pwd[i]:\n",
    "                if char.isalpha():\n",
    "                    a+=1\n",
    "                elif char.isupper():\n",
    "                    A+=1\n",
    "                elif char.isdigit():\n",
    "                    d+=1\n",
    "                elif char in my_set:\n",
    "                    s+=1\n",
    "        else:\n",
    "            pass\n",
    "        if a>=1 and A>=1 and d>=1 and s>=1 :\n",
    "            print(pwd[i])\n",
    "        else:\n",
    "            print('Invalid Password')\n",
    "pwd=input('Enter the Password:').split(',')\n",
    "check_website(pwd)"
   ]
  }
 ],
 "metadata": {
  "kernelspec": {
   "display_name": "Python 3",
   "language": "python",
   "name": "python3"
  },
  "language_info": {
   "codemirror_mode": {
    "name": "ipython",
    "version": 3
   },
   "file_extension": ".py",
   "mimetype": "text/x-python",
   "name": "python",
   "nbconvert_exporter": "python",
   "pygments_lexer": "ipython3",
   "version": "3.8.8"
  }
 },
 "nbformat": 4,
 "nbformat_minor": 5
}
