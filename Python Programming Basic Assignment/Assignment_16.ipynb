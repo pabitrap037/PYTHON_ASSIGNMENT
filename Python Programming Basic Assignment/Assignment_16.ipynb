{
 "cells": [
  {
   "cell_type": "markdown",
   "id": "f3264f87",
   "metadata": {},
   "source": [
    "# 1.Write a function that stutters a word as if someone is struggling to read it. The first two letters are repeated twice with an ellipsis ... and space after each, and then the word is pronounced with a question mark ?."
   ]
  },
  {
   "cell_type": "code",
   "execution_count": 4,
   "id": "1822b179",
   "metadata": {},
   "outputs": [
    {
     "name": "stdout",
     "output_type": "stream",
     "text": [
      "Enter a String:incredible\n",
      "\" in ...  in ...  incredible ?\"\n"
     ]
    }
   ],
   "source": [
    "def stutter(word):\n",
    "    print('\"',word[0:2],'... ',word[0:2],'... ',word,'?\"')\n",
    "word=input('Enter a String:')\n",
    "stutter(word)"
   ]
  },
  {
   "cell_type": "markdown",
   "id": "a5370cd3",
   "metadata": {},
   "source": [
    "# 2.Create a function that takes an angle in radians and returns the corresponding angle in degrees rounded to one decimal place."
   ]
  },
  {
   "cell_type": "code",
   "execution_count": 7,
   "id": "bc488cd9",
   "metadata": {},
   "outputs": [
    {
     "name": "stdout",
     "output_type": "stream",
     "text": [
      "Give value for Radian:1\n",
      "57.3\n"
     ]
    }
   ],
   "source": [
    "import math\n",
    "def radians_to_degree(rad):\n",
    "    print(round(math.degrees(rad),1))\n",
    "rad=float(input('Give value for Radian:'))\n",
    "radians_to_degree(rad)"
   ]
  },
  {
   "cell_type": "markdown",
   "id": "f8069e51",
   "metadata": {},
   "source": [
    "# 3.In this challenge, establish if a given integer num is a Curzon number. If 1 plus 2 elevated to num is exactly divisible by 1 plus 2 multiplied by num, then num is a Curzon number."
   ]
  },
  {
   "cell_type": "code",
   "execution_count": 14,
   "id": "d02e9c22",
   "metadata": {},
   "outputs": [
    {
     "name": "stdout",
     "output_type": "stream",
     "text": [
      "Enter a Number:14\n"
     ]
    },
    {
     "data": {
      "text/plain": [
       "True"
      ]
     },
     "execution_count": 14,
     "metadata": {},
     "output_type": "execute_result"
    }
   ],
   "source": [
    "def is_curzon(num):\n",
    "    res1=2**num+1\n",
    "    res2=2*num+1\n",
    "    if res1 % res2 == 0:\n",
    "        return True\n",
    "    else:\n",
    "        return False\n",
    "num=int(input('Enter a Number:'))\n",
    "is_curzon(num)"
   ]
  },
  {
   "cell_type": "markdown",
   "id": "b1b998a2",
   "metadata": {},
   "source": [
    "# 4.Given the side length x find the area of a hexagon."
   ]
  },
  {
   "cell_type": "code",
   "execution_count": 22,
   "id": "43064d96",
   "metadata": {},
   "outputs": [
    {
     "name": "stdout",
     "output_type": "stream",
     "text": [
      "Enter the side:1\n",
      "Area of hexagon is: 2.6\n"
     ]
    }
   ],
   "source": [
    "import math\n",
    "def area_of_hexagon(x):\n",
    "    area=(3*math.sqrt(3)*x*x)/2\n",
    "    return round(area,1)\n",
    "x=float(input('Enter the side:'))\n",
    "print('Area of hexagon is:',area_of_hexagon(x))"
   ]
  },
  {
   "cell_type": "markdown",
   "id": "8c5048f8",
   "metadata": {},
   "source": [
    "# 5.Create a function that returns a base-2 (binary) representation of a base-10 (decimal) string number. To convert is simple: ((2) means base-2 and (10) means base-10) 010101001(2) = 1 + 8 + 32 + 128."
   ]
  },
  {
   "cell_type": "code",
   "execution_count": 36,
   "id": "89de4784",
   "metadata": {},
   "outputs": [
    {
     "name": "stdout",
     "output_type": "stream",
     "text": [
      "Enter a Number:10\n",
      "1010"
     ]
    }
   ],
   "source": [
    "def binary(num):\n",
    "    if num > 1:\n",
    "        binary(num // 2)\n",
    "    print(num % 2, end = '')\n",
    "num=int(input('Enter a Number:'))\n",
    "binary(num)"
   ]
  },
  {
   "cell_type": "code",
   "execution_count": null,
   "id": "88353ee1",
   "metadata": {},
   "outputs": [],
   "source": []
  }
 ],
 "metadata": {
  "kernelspec": {
   "display_name": "Python 3",
   "language": "python",
   "name": "python3"
  },
  "language_info": {
   "codemirror_mode": {
    "name": "ipython",
    "version": 3
   },
   "file_extension": ".py",
   "mimetype": "text/x-python",
   "name": "python",
   "nbconvert_exporter": "python",
   "pygments_lexer": "ipython3",
   "version": "3.8.8"
  }
 },
 "nbformat": 4,
 "nbformat_minor": 5
}
