{
 "cells": [
  {
   "cell_type": "markdown",
   "id": "bb8d089a",
   "metadata": {},
   "source": [
    "# 1.Create a function that takes three parameters where:x is the start of the range (inclusive). y is the end of the range (inclusive). n is the divisor to be checked against.Return an ordered list with numbers in the range that are divisible by the third parameter n.Return an empty list if there are no numbers that are divisible by"
   ]
  },
  {
   "cell_type": "code",
   "execution_count": 1,
   "id": "fcfd582f",
   "metadata": {},
   "outputs": [
    {
     "name": "stdout",
     "output_type": "stream",
     "text": [
      "Enter Start of Range:1\n",
      "Enter End of Range:10\n",
      "Enter Divisor:3\n",
      "3 6 9 "
     ]
    }
   ],
   "source": [
    "def list_operation(x,y,n):\n",
    "    for i in range(x,y):\n",
    "        if i % n ==0:\n",
    "            print(i,end=' ')\n",
    "x=int(input('Enter Start of Range:'))\n",
    "y=int(input('Enter End of Range:'))\n",
    "n=int(input('Enter Divisor:'))\n",
    "list_operation(x,y,n)"
   ]
  },
  {
   "cell_type": "markdown",
   "id": "8a470c9d",
   "metadata": {},
   "source": [
    "# 2.Create a function that takes in two lists and returns True if the second list follows the first list by one element, and False otherwise. In other words, determine if the second list is the first list shifted to the right by 1."
   ]
  },
  {
   "cell_type": "code",
   "execution_count": 6,
   "id": "d30fb366",
   "metadata": {},
   "outputs": [
    {
     "name": "stdout",
     "output_type": "stream",
     "text": [
      "Enter the first List:1 2 3 4 5\n",
      "Enter the second List:0 1 2 3 4\n",
      "True\n"
     ]
    }
   ],
   "source": [
    "def check_list(mylist1,mylist2):\n",
    "    for i, j in zip(range(len(mylist1)-1),range(len(mylist2))):\n",
    "        if mylist2[j+1]==mylist1[i]:\n",
    "            flag=1\n",
    "        else:\n",
    "            flag=0\n",
    "    if flag==1:\n",
    "        print('True')\n",
    "    else:\n",
    "        print('False')\n",
    "mylist1=list(map(int,input('Enter the first List:').split()))\n",
    "mylist2=list(map(int,input('Enter the second List:').split()))\n",
    "check_list(mylist1,mylist2)"
   ]
  },
  {
   "cell_type": "markdown",
   "id": "21a99f28",
   "metadata": {},
   "source": [
    "# 3.A group of friends have decided to start a secret society. The name will be the first letter of each of their names, sorted in alphabetical order.Create a function that takes in a list of names and returns the name of the secret society."
   ]
  },
  {
   "cell_type": "code",
   "execution_count": 17,
   "id": "db9c50b4",
   "metadata": {},
   "outputs": [
    {
     "name": "stdout",
     "output_type": "stream",
     "text": [
      "Enter a list of names:Adam Sarah Malcolm\n",
      "AMS\n"
     ]
    }
   ],
   "source": [
    "def society_name(name_list):\n",
    "    soc_name=''\n",
    "    new_list=[]\n",
    "    for i in name_list:\n",
    "        soc_name=i\n",
    "        new_list+=soc_name[0]\n",
    "    print(''.join(sorted(new_list)))\n",
    "name_list=list(map(str,input('Enter a list of names:').split()))\n",
    "society_name(name_list)"
   ]
  },
  {
   "cell_type": "markdown",
   "id": "aac08137",
   "metadata": {},
   "source": [
    "# 4.An isogram is a word that has no duplicate letters. Create a function that takes a string and returns either True or False depending on whether or not it&#39;s an &quot;isogram&quot;."
   ]
  },
  {
   "cell_type": "code",
   "execution_count": 22,
   "id": "e73f89c4",
   "metadata": {},
   "outputs": [
    {
     "name": "stdout",
     "output_type": "stream",
     "text": [
      "Enter a word:Algorism\n",
      "True\n"
     ]
    }
   ],
   "source": [
    "def is_isogram(word):\n",
    "    my_word = word.lower()\n",
    "    letter_list = []\n",
    "    for letter in my_word:\n",
    "        if letter not in letter_list:\n",
    "            letter_list.append(letter)\n",
    "    my_list=''.join(letter_list)\n",
    "    if my_list == my_word:\n",
    "        print('True')\n",
    "    else:\n",
    "        print('False')\n",
    "word=input('Enter a word:')\n",
    "is_isogram(word)"
   ]
  },
  {
   "cell_type": "markdown",
   "id": "566a09cc",
   "metadata": {},
   "source": [
    "# 5.Create a function that takes a string and returns True or False, depending on whether the characters are in order or not."
   ]
  },
  {
   "cell_type": "code",
   "execution_count": 31,
   "id": "c8c96f5d",
   "metadata": {},
   "outputs": [
    {
     "name": "stdout",
     "output_type": "stream",
     "text": [
      "Enter a String:abc\n",
      "True\n"
     ]
    }
   ],
   "source": [
    "def is_in_order(my_string):\n",
    "    for i in range(len(my_string)-1):\n",
    "        if my_string[i]< my_string[i+1]:\n",
    "            flag=1\n",
    "        else:\n",
    "            flag=0\n",
    "    if flag:\n",
    "        print('True')\n",
    "    else:\n",
    "        print('False')\n",
    "\n",
    "my_string=input('Enter a String:')\n",
    "is_in_order(my_string)"
   ]
  }
 ],
 "metadata": {
  "kernelspec": {
   "display_name": "Python 3",
   "language": "python",
   "name": "python3"
  },
  "language_info": {
   "codemirror_mode": {
    "name": "ipython",
    "version": 3
   },
   "file_extension": ".py",
   "mimetype": "text/x-python",
   "name": "python",
   "nbconvert_exporter": "python",
   "pygments_lexer": "ipython3",
   "version": "3.8.8"
  }
 },
 "nbformat": 4,
 "nbformat_minor": 5
}
