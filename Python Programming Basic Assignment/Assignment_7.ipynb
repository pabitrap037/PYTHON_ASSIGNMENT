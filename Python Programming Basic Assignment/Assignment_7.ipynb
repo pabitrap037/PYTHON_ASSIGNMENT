{
 "cells": [
  {
   "cell_type": "markdown",
   "id": "c714d7f5",
   "metadata": {},
   "source": [
    "# 1.Write a Python Program to find sum of array?"
   ]
  },
  {
   "cell_type": "code",
   "execution_count": 3,
   "id": "bf0ae395",
   "metadata": {},
   "outputs": [
    {
     "name": "stdout",
     "output_type": "stream",
     "text": [
      "Enter the Number of elements5\n",
      "Enter a List:10 10 10 10 10\n",
      "Sum of Array: 50\n"
     ]
    }
   ],
   "source": [
    "def sum_array():\n",
    "    n=int(input('Enter the Number of elements'))\n",
    "    arr=list(map(int,input(\"Enter a List:\").split()))\n",
    "    print('Sum of Array:',sum(arr))\n",
    "sum_array()\n",
    "    "
   ]
  },
  {
   "cell_type": "markdown",
   "id": "823b0153",
   "metadata": {},
   "source": [
    "# 2.Write a Python Program to find largest element in an array?"
   ]
  },
  {
   "cell_type": "code",
   "execution_count": 5,
   "id": "5952935d",
   "metadata": {},
   "outputs": [
    {
     "name": "stdout",
     "output_type": "stream",
     "text": [
      "Enter the Number of elements:5\n",
      "Enter a List:5 6 87 96 52 1\n",
      "Largest Element in the array: 96\n"
     ]
    }
   ],
   "source": [
    "def largest():\n",
    "    n=int(input('Enter the Number of elements:'))\n",
    "    arr=list(map(int,input(\"Enter a List:\").split()))\n",
    "    print('Largest Element in the array:',max(arr))\n",
    "largest()"
   ]
  },
  {
   "cell_type": "markdown",
   "id": "a80d7e0c",
   "metadata": {},
   "source": [
    "# 3.Write a Python Program for array rotation?"
   ]
  },
  {
   "cell_type": "code",
   "execution_count": 34,
   "id": "cd68cfcf",
   "metadata": {},
   "outputs": [
    {
     "name": "stdout",
     "output_type": "stream",
     "text": [
      "Enter a List:1 2 3 4 5 6\n",
      "Enter the index for rotation:3\n",
      "[4, 5, 6, 1, 2, 3]\n"
     ]
    }
   ],
   "source": [
    "def array_rotation():\n",
    "    arr=list(map(int,input('Enter a List:').split()))\n",
    "    r=int(input('Enter the index for rotation:'))\n",
    "    temp=arr[r:len(arr)]+arr[0:r]\n",
    "    print(temp)\n",
    "array_rotation()"
   ]
  },
  {
   "cell_type": "markdown",
   "id": "f7a8825a",
   "metadata": {},
   "source": [
    "# 4.Write a Python Program to Split the array and add the first part to the end?"
   ]
  },
  {
   "cell_type": "code",
   "execution_count": null,
   "id": "9bba3030",
   "metadata": {},
   "outputs": [],
   "source": [
    "def Split_Arry(Value):\n",
    "    New_List1=Value[0:Position]\n",
    "    New_List2=Value[Position:]\n",
    "    Final=New_List2+New_List1\n",
    "    print(Final)   \n",
    "Value=list(map(int,input(\"Enter a List:\").split()))\n",
    "Position=int(input(\"Enter the position:\"))\n",
    "Split_Arry(Value)"
   ]
  },
  {
   "cell_type": "markdown",
   "id": "8d2a0464",
   "metadata": {},
   "source": [
    "# 5.Write a Python Program to check if given array is Monotonic?"
   ]
  },
  {
   "cell_type": "code",
   "execution_count": 30,
   "id": "c918c136",
   "metadata": {},
   "outputs": [
    {
     "name": "stdout",
     "output_type": "stream",
     "text": [
      "Enter the Number of elements:8\n",
      "Enter a List:6 668 5 3 4 2 6 6 6\n",
      "Array is not monotonic\n"
     ]
    }
   ],
   "source": [
    "def monotonic():\n",
    "    n=int(input('Enter the Number of elements:'))\n",
    "    arr=list(map(int,input(\"Enter a List:\").split()))\n",
    "    assending=sorted(arr)\n",
    "    descending=sorted(arr,reverse=True)\n",
    "    if arr==assending or arr==descending:\n",
    "        flag=0\n",
    "    else:\n",
    "        flag=1\n",
    "    if flag==0:\n",
    "        print('Array is monotonic')\n",
    "    else:\n",
    "        print('Array is not monotonic')\n",
    "monotonic()\n",
    "            "
   ]
  }
 ],
 "metadata": {
  "kernelspec": {
   "display_name": "Python 3",
   "language": "python",
   "name": "python3"
  },
  "language_info": {
   "codemirror_mode": {
    "name": "ipython",
    "version": 3
   },
   "file_extension": ".py",
   "mimetype": "text/x-python",
   "name": "python",
   "nbconvert_exporter": "python",
   "pygments_lexer": "ipython3",
   "version": "3.8.8"
  }
 },
 "nbformat": 4,
 "nbformat_minor": 5
}
